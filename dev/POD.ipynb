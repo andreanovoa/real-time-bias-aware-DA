{
 "cells": [
  {
   "cell_type": "code",
   "id": "ffb0783a80343952",
   "metadata": {
    "collapsed": false
   },
   "source": [
    "%matplotlib inline\n",
    "import scipy.io as sio\n",
    "from ML_models.POD_ESN import *\n",
    "\n",
    "mat = sio.loadmat('data/circle_data.mat')\n",
    "data = np.array([mat['ux'], mat['uy']])\n",
    "data = np.einsum('u t x y -> u y x t',np.squeeze(data))\n",
    "\n",
    "Nu, Ny, Nx, Nt = data.shape\n",
    "\n",
    "N_test = int(.6 * Nt)\n",
    "X_test = data[..., -N_test:].copy()\n",
    "X_train = data[..., :-N_test].copy()\n",
    "\n",
    "case = POD_ESN(X=X_train, dt=0.01, N_modes=5, rho_range = (.2, 1.05), Nq=5, \n",
    "               plot_decomposition=True, perform_test=False, plot_training=False)\n",
    "\n",
    "case_og = case.copy()"
   ],
   "execution_count": null,
   "outputs": []
  },
  {
   "cell_type": "code",
   "id": "5ffc6354ba102981",
   "metadata": {
    "collapsed": false
   },
   "source": [
    "\n",
    "\n",
    "XX1, XX2 = case.domain_mesh()[:-1]\n",
    "\n",
    "X1, X2 = XX1.ravel(), XX2.ravel()\n",
    "\n",
    "plt.figure(figsize=(3,5))\n",
    "plt.plot(XX1, XX2, marker='.', color='k', linestyle='none', ms=0.1)\n",
    "\n",
    "X1_up, X2_up, grid_idx_up = case.domain_mesh(down_sample=[10, 20], ravel=True)\n",
    "\n",
    "idx = grid_idx_up[(abs(X1_up) < 1.5) & (abs(X2_up-6) < 2)]\n",
    "\n",
    "sensor_locations = case.sensor_locations[case.sensor_locations< len(X1)]\n",
    "\n",
    "plt.plot(X1[idx], X2[idx], marker='o', color='b', linestyle='none', ms=1.5)\n",
    "plt.plot(X1[sensor_locations], X2[sensor_locations], marker='o', color='r', linestyle='none', ms=5)\n",
    "\n",
    "\n",
    "plt.xlabel('x1')\n",
    "plt.ylabel('x2');"
   ],
   "execution_count": null,
   "outputs": []
  },
  {
   "metadata": {},
   "cell_type": "code",
   "source": [
    "# Plot training data at probes\n",
    "\n",
    "ttt = np.arange(0, Nt-N_test) * case.dt\n",
    "yyy = X_train.reshape((-1, Nt-N_test))[case.sensor_locations]\n",
    "q_mean = case.Q_mean[case.sensor_locations]\n",
    "\n",
    "qqq = case.get_observables(Phi=case.Phi)\n",
    "\n",
    "fig, axs = plt.subplots(nrows=case.Nq//3, ncols=3, figsize=(10, 10), sharex=True, sharey='col', layout='constrained')\n",
    "\n",
    "axs = axs.T.flatten()\n",
    "axs[0].set(title=\"$u_x-\\\\bar{u}_x$\")\n",
    "axs[case.Nq//3].set(title=\"$u_y-\\\\bar{u}_y$\")\n",
    "axs[2*case.Nq//3].set(title=\"$p-\\\\bar{p}$\")\n",
    "\n",
    "for kk, ax in enumerate(axs):\n",
    "    ax.axvspan(0, case.t_train/case.dt, facecolor='tab:green', alpha=0.125, zorder=-100, label='Train')\n",
    "    ax.axvspan(case.t_train/case.dt, (case.t_train+case.t_val)/case.dt, facecolor='tab:blue', alpha=0.125, zorder=-100, label='Train')\n",
    "    ax.plot(yyy[kk] - q_mean[kk], lw=4, color='k')\n",
    "    ax.plot(qqq[kk] - q_mean[kk], lw=1., ls=(0, (10, 2)), color='red')\n",
    "\n",
    "plt.suptitle('Training and validation data');\n"
   ],
   "id": "d48f5ebf612f8e8c",
   "execution_count": null,
   "outputs": []
  },
  {
   "cell_type": "code",
   "id": "6694c05d0293c2e9",
   "metadata": {
    "collapsed": false
   },
   "source": [
    "Q = case.reconstruct(Phi=case.Phi[-1], Psi=case.Psi)\n",
    "\n",
    "case.domain = [-2, 2, 12, 0]\n",
    "\n",
    "X, Y = case.domain_mesh()[:-1]\n",
    "\n",
    "ff, aa = plt.subplots(1, 3)\n",
    "for zz, ax in zip(Q, aa):\n",
    "    ax.contourf(X, Y, zz.squeeze().T, 100);"
   ],
   "execution_count": null,
   "outputs": []
  },
  {
   "cell_type": "code",
   "id": "9410195c22537eec",
   "metadata": {
    "collapsed": false
   },
   "source": [
    "Q = case.reconstruct(Phi=case.Phi[-1], Psi=case.Psi)\n",
    "case.plot_reconstruct(original_data=X_train[...,-1], reconstructed_data=Q, dim=[0, 1]);"
   ],
   "execution_count": null,
   "outputs": []
  },
  {
   "cell_type": "code",
   "id": "f2395ce96663f98",
   "metadata": {
    "collapsed": false
   },
   "source": [
    "\n",
    "case.plot_sensors(background_data=case.reconstruct(Q_mean=case.Q_mean*0., reshape=True), fluctuations = True);"
   ],
   "execution_count": null,
   "outputs": []
  },
  {
   "metadata": {},
   "cell_type": "code",
   "source": [
    "case = case_og.copy()\n",
    "\n",
    "# Integrate the ESN in time\n",
    "psi, t = case.time_integrate(Nt=Nt*5)\n",
    "case.update_history(psi, t)\n",
    "\n",
    "# Compare prediction and truth at probes\n",
    "qqq = case.get_observable_hist(Nt*5)\n",
    "\n",
    "yyy = X_test.reshape((-1, N_test))[case.sensor_locations]\n",
    "q_mean = case.Q_mean[case.sensor_locations]\n",
    "\n",
    "\n"
   ],
   "id": "3bfe0bc9d6d8ae8b",
   "execution_count": null,
   "outputs": []
  },
  {
   "metadata": {},
   "cell_type": "code",
   "source": [
    "fig, axs = plt.subplots(nrows=case.Nq//3, ncols=3, figsize=(10, 10), sharex=True, sharey='col', layout='constrained')\n",
    "\n",
    "axs = axs.T.flatten()\n",
    "axs[0].set(title=\"$u_x-\\\\bar{u}_x$\")\n",
    "axs[case.Nq//3].set(title=\"$u_y-\\\\bar{u}_y$\")\n",
    "axs[2*case.Nq//3].set(title=\"$p-\\\\bar{p}$\")\n",
    "\n",
    "for kk, ax in enumerate(axs):\n",
    "    ax.plot(yyy[kk] - q_mean[kk], lw=4, color='dimgray')\n",
    "    ax.plot(qqq[kk] - q_mean[kk], lw=1., ls=(0, (10, 1)), color='tab:orange')\n",
    "    ax.set(xlim=(0, Nt*5))\n",
    "    # ax.set(xlim=(0, N_test))"
   ],
   "id": "235403c40d4ac6d7",
   "execution_count": null,
   "outputs": []
  },
  {
   "cell_type": "code",
   "id": "f31944416d54581e",
   "metadata": {
    "collapsed": false
   },
   "source": [
    "Q = case.reconstruct(Phi=psi[-N_test])\n",
    "case.plot_reconstruct(original_data=X_test[...,-N_test], reconstructed_data=Q, dim=[0, 1, 2]);\n",
    "plt.show()"
   ],
   "execution_count": null,
   "outputs": []
  },
  {
   "metadata": {},
   "cell_type": "code",
   "source": [
    "XX = X_train.reshape((-1, Nt-N_test))\n",
    "XX[np.isnan(XX)] = 0\n",
    "\n",
    "W = np.dot(XX.T, XX) / (XX.shape[-1]-1)\n",
    "SS = np.real(np.linalg.eig(W)[0])"
   ],
   "id": "103c11f75b6d7087",
   "execution_count": null,
   "outputs": []
  }
 ],
 "metadata": {
  "kernelspec": {
   "name": "rom",
   "language": "python",
   "display_name": "rom"
  },
  "language_info": {
   "codemirror_mode": {
    "name": "ipython",
    "version": 3
   },
   "file_extension": ".py",
   "mimetype": "text/x-python",
   "name": "python",
   "nbconvert_exporter": "python",
   "pygments_lexer": "ipython3",
   "version": "3.11.8"
  }
 },
 "nbformat": 4,
 "nbformat_minor": 5
}
