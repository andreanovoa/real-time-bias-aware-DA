{
 "cells": [
  {
   "cell_type": "code",
   "id": "ffb0783a80343952",
   "metadata": {
    "collapsed": false,
    "jupyter": {
     "outputs_hidden": false
    },
    "ExecuteTime": {
     "end_time": "2024-06-04T13:18:10.838885Z",
     "start_time": "2024-06-04T13:16:41.544751Z"
    }
   },
   "source": [
    "import scipy.io as sio\n",
    "from essentials.create import create_ensemble, create_noisy_signal\n",
    "from essentials.Util import *\n",
    "from ML_models.POD_ESN import *\n",
    "\n",
    "\n",
    "# case = load_from_pickle_file('POD_ESN_case')\n",
    "\n",
    "mat = sio.loadmat('data/circle_data.mat')\n",
    "data = np.array([mat['ux'], mat['uy']]).transpose(0, 3, 2, 1)\n",
    "\n",
    "\n",
    "Nu, Ny, Nx, Nt = data.shape\n",
    "\n",
    "y_true = np.reshape(data.copy(), newshape=(-1, Nt))\n",
    "y_true[np.isnan(y_true)] = 0\n",
    "\n",
    "noise_type, std_obs = 'gauss, add', 0.2\n",
    "y_raw = create_noisy_signal(y_true, noise_level=std_obs, noise_type=noise_type)\n",
    "y_raw = np.reshape(y_raw, newshape=(Nu, Ny, Nx, Nt))\n",
    "\n",
    "\n",
    "N_test = int(.4 * Nt)\n",
    "X_test = y_raw[..., -N_test:].copy()\n",
    "X_train = y_raw[..., :-N_test].copy()\n",
    "\n",
    "\n",
    "sensor_locations = POD_ESN.define_sensors(Nq=5, domain=[-2, 2, 12, 0], grid_shape=data.shape[:-1], \n",
    "                                          down_sample=(10, 20))\n",
    "\n",
    "case = POD_ESN(X=X_train, dt=0.01, N_modes=10, sensor_locations=sensor_locations,\n",
    "               rho_range = (.2, 1.05), plot_decomposition=True, plot_training=False, perform_test=False)\n",
    "\n",
    "save_to_pickle_file('POD_ESN_case', case)\n"
   ],
   "execution_count": 1,
   "outputs": []
  },
  {
   "metadata": {
    "ExecuteTime": {
     "end_time": "2024-06-04T13:18:18.844820Z",
     "start_time": "2024-06-04T13:18:10.840967Z"
    }
   },
   "cell_type": "code",
   "source": [
    "\n",
    "\n",
    "case.plot_reconstruct(original_data=y_raw[..., -N_test], clean_data=data[..., -N_test])\n"
   ],
   "id": "c48f121acbf4685",
   "execution_count": 2,
   "outputs": []
  },
  {
   "metadata": {
    "ExecuteTime": {
     "end_time": "2024-06-04T13:18:18.996646Z",
     "start_time": "2024-06-04T13:18:18.845975Z"
    }
   },
   "cell_type": "code",
   "source": [
    "\n",
    "data_obs = X_test.copy().reshape(-1, N_test)[sensor_locations].T\n",
    "\n",
    "dt_t = case.dt\n",
    "t_start = 0.\n",
    "t_stop = N_test*.8*case.dt\n",
    "Nt_obs = 30\n",
    "\n",
    "\n",
    "t_true = np.arange(0, N_test)  * dt_t\n",
    "\n",
    "obs_idx = np.arange(t_start // dt_t, t_stop // dt_t + 1, Nt_obs, dtype=int)\n",
    "\n",
    "\n",
    "truth = dict(y_raw=y_raw, \n",
    "             y_true=y_true, \n",
    "             t=t_true, \n",
    "             b=np.zeros(1), \n",
    "             dt=dt_t,\n",
    "             t_obs=t_true[obs_idx], \n",
    "             y_obs=data_obs[obs_idx], \n",
    "             dt_obs=Nt_obs * dt_t,\n",
    "             name='circle_data', \n",
    "             name_bias='Exp_circle_data', \n",
    "             noise_type=noise_type,\n",
    "             model=POD_ESN, \n",
    "             std_obs=std_obs, \n",
    "             true_params=None, case=None)"
   ],
   "id": "2144d0595ca77325",
   "execution_count": 3,
   "outputs": []
  },
  {
   "cell_type": "code",
   "id": "5f7040af202b89a7",
   "metadata": {
    "ExecuteTime": {
     "end_time": "2024-06-04T13:18:19.008041Z",
     "start_time": "2024-06-04T13:18:18.998241Z"
    }
   },
   "source": [
    "\n",
    "forecast_params = dict(model=case,\n",
    "                       m=22,\n",
    "                       std_psi=0.5,\n",
    "                       update_Reservoir=True,\n",
    "                       )\n",
    "\n",
    "ensemble = create_ensemble(**forecast_params)\n"
   ],
   "execution_count": 4,
   "outputs": []
  },
  {
   "cell_type": "code",
   "id": "c835668ed5a28ad7",
   "metadata": {
    "ExecuteTime": {
     "end_time": "2024-06-04T13:18:19.014100Z",
     "start_time": "2024-06-04T13:18:19.011619Z"
    }
   },
   "source": "",
   "execution_count": 4,
   "outputs": []
  },
  {
   "cell_type": "code",
   "id": "627fc6a2816b7b8e",
   "metadata": {
    "ExecuteTime": {
     "end_time": "2024-06-04T13:18:19.019781Z",
     "start_time": "2024-06-04T13:18:19.015618Z"
    }
   },
   "source": [
    "ensemble.hist_t\n",
    "\n"
   ],
   "execution_count": 5,
   "outputs": []
  },
  {
   "cell_type": "code",
   "id": "7102481b2950bfb8",
   "metadata": {
    "ExecuteTime": {
     "end_time": "2024-06-04T13:18:20.949964Z",
     "start_time": "2024-06-04T13:18:19.021627Z"
    }
   },
   "source": [
    "psi, t = ensemble.time_integrate(Nt=N_test)\n",
    "ensemble.update_history(psi, reset=True)\n",
    "obs = ensemble.get_observable_hist(N_test)\n",
    "\n",
    "q_mean = ensemble.Q_mean[ensemble.sensor_locations]\n",
    "\n",
    "fig, axs = plt.subplots(nrows=ensemble.Nq//2, ncols=2, figsize=(10, 10), sharex=True, layout='constrained')\n",
    "\n",
    "axs = axs.T.flatten()\n",
    "axs[0].set(title=\"$u_x-\\\\bar{u}_x$\")\n",
    "axs[case.Nq//2].set(title=\"$u_y-\\\\bar{u}_y$\")\n",
    "\n",
    "for kk, ax in enumerate(axs):\n",
    "    ax.plot(ensemble.hist_t[-N_test:], obs[kk] - q_mean[kk], lw=1., ls=(0, (10, 1)))\n",
    "    ax.plot(truth['t'], data_obs[:,kk] - q_mean[kk], lw=1.5, color='k')\n",
    "    ax.plot(truth['t_obs'], truth['y_obs'][:,kk] - q_mean[kk], 'o', mec='k', mfc='r')"
   ],
   "execution_count": 6,
   "outputs": []
  },
  {
   "cell_type": "code",
   "id": "3eaf4f1a-7e0a-4c82-a3ac-22fc0118533a",
   "metadata": {},
   "source": [
    "print(ensemble.get_current_state.shape,\n",
    "      ensemble.hist.shape,\n",
    "      ensemble.hist_t.shape,\n",
    "      ensemble.get_observables().shape,\n",
    "      ensemble.Q_mean.shape,\n",
    "      ensemble.Sigma.shape,\n",
    "      ensemble.Psi.shape\n",
    "      )\n",
    "\n"
   ],
   "execution_count": 7,
   "outputs": []
  },
  {
   "metadata": {
    "ExecuteTime": {
     "end_time": "2024-06-04T13:18:20.978350Z",
     "start_time": "2024-06-04T13:18:20.954901Z"
    }
   },
   "cell_type": "code",
   "source": "int(np.round((truth['t_obs'][0] - ensemble.get_current_time) / ensemble.dt))",
   "id": "a923e320eee02c82",
   "execution_count": 8,
   "outputs": []
  },
  {
   "metadata": {
    "ExecuteTime": {
     "end_time": "2024-06-04T13:18:20.983058Z",
     "start_time": "2024-06-04T13:18:20.979641Z"
    }
   },
   "cell_type": "code",
   "source": "ensemble.get_current_time",
   "id": "fba849730338cf61",
   "execution_count": 9,
   "outputs": []
  },
  {
   "cell_type": "code",
   "id": "b4f84448-3c95-47e3-b8c6-f8659366bd62",
   "metadata": {
    "ExecuteTime": {
     "end_time": "2024-06-04T13:25:27.404534Z",
     "start_time": "2024-06-04T13:25:27.304264Z"
    }
   },
   "source": [
    "from essentials.DA import *\n",
    "\n",
    "filter_ens = create_ensemble(**forecast_params)\n",
    "\n",
    "\n",
    "filter_ens.inflation = 1.0\n",
    "filter_ens.reject_inflation = 1.0\n",
    "filter_ens.filter = 'EnKF'\n",
    "\n",
    "\n",
    "filter_ens = dataAssimilation(filter_ens, y_obs=truth['y_obs'].copy(), t_obs=truth['t_obs'].copy(), std_obs=0.1)\n",
    "\n",
    "#Forecast the ensemble further without assimilation\n",
    "Nt_extra = int(filter_ens.t_CR / filter_ens.dt) * 10\n",
    "\n",
    "psi, t = filter_ens.time_integrate(Nt_extra)\n",
    "filter_ens.update_history(psi, t)\n",
    "\n",
    "\n",
    "filter_ens.close()\n",
    "    "
   ],
   "execution_count": 12,
   "outputs": []
  },
  {
   "metadata": {
    "ExecuteTime": {
     "end_time": "2024-06-04T13:31:15.682081Z",
     "start_time": "2024-06-04T13:31:15.672654Z"
    }
   },
   "cell_type": "code",
   "source": [
    "\n",
    "filter_ens = create_ensemble(**forecast_params)\n",
    "\n",
    "filter_ens.bias.hist.shape\n",
    "filter_ens.bias.N_dim"
   ],
   "id": "7c70a976a0589a3f",
   "execution_count": 18,
   "outputs": []
  },
  {
   "cell_type": "code",
   "id": "d08174a8-5af1-44bd-80a3-26d3ab115adb",
   "metadata": {},
   "source": [
    "\n",
    "y = filter_ens.get_observable_hist(Nt_extra)"
   ],
   "execution_count": null,
   "outputs": []
  }
 ],
 "metadata": {
  "kernelspec": {
   "display_name": "C-EnKF",
   "language": "python",
   "name": "c-enkf"
  },
  "language_info": {
   "codemirror_mode": {
    "name": "ipython",
    "version": 3
   },
   "file_extension": ".py",
   "mimetype": "text/x-python",
   "name": "python",
   "nbconvert_exporter": "python",
   "pygments_lexer": "ipython3",
   "version": "3.11.8"
  }
 },
 "nbformat": 4,
 "nbformat_minor": 5
}
