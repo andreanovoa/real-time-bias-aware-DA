{
 "cells": [
  {
   "cell_type": "markdown",
   "id": "59844355-4501-4c8c-a1eb-83d6f19ac43f",
   "metadata": {},
   "source": [
    "# Define parameters"
   ]
  },
  {
   "cell_type": "code",
   "id": "15d23a18-dd2d-42a5-a269-4e187721c0d3",
   "metadata": {
    "ExecuteTime": {
     "end_time": "2024-06-04T20:49:23.019613Z",
     "start_time": "2024-06-04T20:49:21.595812Z"
    }
   },
   "source": [
    "%matplotlib widget\n",
    "import numpy as np\n",
    "\n",
    "from essentials.physical_models import Lorenz63\n",
    "from essentials.create import create_truth, create_ensemble\n",
    "rng = np.random.default_rng(0)\n",
    "\n",
    "\n",
    "t_lyap = Lorenz63.t_lyap\n",
    "dt_t = 0.015\n",
    "\n",
    "true_params = dict(model=Lorenz63,\n",
    "                   t_start=t_lyap * 10,\n",
    "                   t_stop=t_lyap * 80,\n",
    "                   t_max=100 * t_lyap,\n",
    "                   Nt_obs=(t_lyap * .25) // dt_t,\n",
    "                   dt=dt_t,\n",
    "                   rho=28.,\n",
    "                   sigma=10.,\n",
    "                   beta=8. / 3.,\n",
    "                   psi0=rng.random(3) + 10,\n",
    "                   std_obs=0.005,\n",
    "                   noise_type='gauss,additive',\n",
    "                   observe_dims=[0, 1]\n",
    "                   )\n",
    "\n",
    "forecast_params = dict(filter='EnKF',\n",
    "                       m=50,\n",
    "                       dt=dt_t,\n",
    "                       model=Lorenz63,\n",
    "                       est_a=dict(rho=(25., 35.),\n",
    "                                  beta=(2, 4),\n",
    "                                  sigma=(5, 15)),\n",
    "                       std_psi=0.3,\n",
    "                       alpha_distr='uniform',\n",
    "                       inflation=1.01,\n",
    "                       observe_dims=true_params['observe_dims']\n",
    "                       )\n",
    "\n",
    "rng = np.random.default_rng(0)\n",
    "\n",
    "\n",
    "truth = create_truth(**true_params)\n",
    "ensemble = create_ensemble(**forecast_params)\n",
    "# plot_truth(**truth)"
   ],
   "execution_count": 1,
   "outputs": []
  },
  {
   "cell_type": "markdown",
   "id": "db10d3dc-8bfa-421d-9542-11dcd4944720",
   "metadata": {},
   "source": [
    "# Run simulation"
   ]
  },
  {
   "cell_type": "code",
   "id": "3c126ab9-848d-4813-9bf6-97c05bb5847a",
   "metadata": {
    "ExecuteTime": {
     "end_time": "2024-06-04T20:49:31.460618Z",
     "start_time": "2024-06-04T20:49:23.021107Z"
    }
   },
   "source": [
    "\n",
    "from essentials.DA import dataAssimilation\n",
    "\n",
    "\n",
    "y_obs, t_obs = [truth[key].copy() for key in ['y_obs', 't_obs']]\n",
    "\n",
    "filter_ens = dataAssimilation(ensemble.copy(), y_obs=y_obs, t_obs=t_obs, std_obs=0.01)"
   ],
   "execution_count": 2,
   "outputs": []
  },
  {
   "cell_type": "markdown",
   "id": "5ca58b27-189b-41af-bd32-3c5907499d7a",
   "metadata": {},
   "source": [
    "\n",
    "# Plot results"
   ]
  },
  {
   "cell_type": "code",
   "id": "4a21b98d-237f-46c3-8914-b17dd5ae13a8",
   "metadata": {
    "jupyter": {
     "is_executing": true
    },
    "ExecuteTime": {
     "end_time": "2024-06-04T20:49:35.530893Z",
     "start_time": "2024-06-04T20:49:31.463854Z"
    }
   },
   "source": [
    "from essentials.plotResults import plot_timeseries, plot_parameters, plot_attractor\n",
    "\n",
    "# Visualize attractors\n",
    "case0 = truth['case'].copy()\n",
    "case1 = filter_ens.copy()\n",
    "\n",
    "# Forecast the ensemble further without assimilation\n",
    "ens = filter_ens.copy()\n",
    "psi, t = ens.time_integrate(int(4 * t_lyap / ens.dt), averaged=False)\n",
    "ens.update_history(psi, t)\n",
    "\n",
    "plot_timeseries(ens, truth, reference_t=t_lyap, plot_ensemble_members=False)\n",
    "plot_parameters(ens, truth, reference_p=true_params)\n",
    "\n",
    "# Forecast both cases\n",
    "Nt = 40 * int(t_lyap / filter_ens.dt)\n",
    "psi0, t0 = case0.time_integrate(Nt=Nt)\n",
    "psi1, t1 = case1.time_integrate(Nt=Nt, averaged=True)\n",
    "\n",
    "plot_attractor([psi0, psi1], color=['gray', 'teal'])\n"
   ],
   "execution_count": 3,
   "outputs": []
  }
 ],
 "metadata": {
  "kernelspec": {
   "display_name": "Python 3 (ipykernel)",
   "language": "python",
   "name": "python3"
  },
  "language_info": {
   "codemirror_mode": {
    "name": "ipython",
    "version": 3
   },
   "file_extension": ".py",
   "mimetype": "text/x-python",
   "name": "python",
   "nbconvert_exporter": "python",
   "pygments_lexer": "ipython3",
   "version": "3.9.19"
  }
 },
 "nbformat": 4,
 "nbformat_minor": 5
}
