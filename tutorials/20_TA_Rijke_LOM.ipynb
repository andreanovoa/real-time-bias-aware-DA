{
 "cells": [
  {
   "cell_type": "markdown",
   "id": "e2debaf4cf316c87",
   "metadata": {
    "collapsed": false
   },
   "source": [
    "# TUTORIAL: \n",
    "# Low order model of longitudinal thermocaoustic instabilities"
   ]
  },
  {
   "metadata": {},
   "cell_type": "code",
   "outputs": [],
   "execution_count": null,
   "source": [
    "%matplotlib inline\n",
    "import matplotlib.pyplot as plt\n",
    "from matplotlib.animation import FuncAnimation\n",
    "from essentials.physical_models import Rijke\n",
    "import numpy as np\n",
    "import mediapy, os\n"
   ],
   "id": "a69a36da5e24f928"
  },
  {
   "metadata": {},
   "cell_type": "markdown",
   "source": [
    "## 1. Define the Rijke tube low order model\n",
    "\n",
    "#### Thermoacoustic model\n"
   ],
   "id": "6045969b53f04cae"
  },
  {
   "metadata": {},
   "cell_type": "code",
   "outputs": [],
   "execution_count": null,
   "source": [
    "case = Rijke()\n",
    "\n",
    "state, t_ = case.time_integrate(int(case.t_transient / case.dt))\n",
    "case.update_history(state, t_)\n"
   ],
   "id": "db2d0d33c4a36688"
  },
  {
   "metadata": {},
   "cell_type": "markdown",
   "source": [
    "## 2. Visualize acoustic modes\n",
    "\n",
    "The state vector is formed of\n",
    "$$\n",
    "\\psi = [\\eta_j; \\mu_j; \\nu_k] \\in \\mathbb{R}^{2N_m+N_c},\n",
    "$$\n",
    "where $\\eta_i, \\mu_j$ are the acoustic velocity and acoustic pressure modes, with $j=1,\\dots,N_m$; and $\\nu_k$ are the Chebyshev modes, with $k=1,\\dots,N_c$, resulting from discretizing the advection equation carrying the delayed velocity at the flame location.\n"
   ],
   "id": "a019f3b372c8853d"
  },
  {
   "metadata": {},
   "cell_type": "code",
   "outputs": [],
   "execution_count": null,
   "source": [
    "fig1 = plt.figure(figsize=(14, 5), layout=\"constrained\")\n",
    "sub_fig1 = fig1.subfigures(1, 2, width_ratios=[1.5, 1])\n",
    "axs = sub_fig1[0].subplots(4, 2, sharex='col', sharey='row', width_ratios=[1, 0.8])\n",
    "Nt_zoom = int(case.t_CR / case.dt)\n",
    "xlims = [[case.hist_t[0], case.hist_t[-1]-case.t_CR], [case.hist_t[-1]-case.t_CR, case.hist_t[-1]]]\n",
    "\n",
    "lbls = ['$\\eta_1$', '$\\mu_1$', '$\\eta_{2}$', '$\\mu_{2}$']\n",
    "cmaps = ['Blues', 'Reds', 'Blues', 'Reds']\n",
    "\n",
    "for axs_, xl, tl in zip([axs[:, 0], axs[:, 1]], xlims, ['Acoustic modes', '']):\n",
    "    \n",
    "    for ii, ax, lbl, cmap in zip([0, case.Nm, 1, case.Nm+1], axs_, lbls, cmaps):\n",
    "        ax.scatter(case.hist_t, case.hist[:, ii], c=case.hist_t, cmap=cmap, s=10, marker='.')\n",
    "        if xl == xlims[0]:\n",
    "            ax.set(ylabel=lbl)\n",
    "            \n",
    "    axs_[-1].set(xlabel='$t$', xlim=xl)\n",
    "    axs_[0].set_title(tl)\n",
    "    \n",
    "axs = sub_fig1[1].subplots(2, 2, sharex='all')\n",
    "axs = axs.ravel()\n",
    "axs[0].set_title('Phase space')\n",
    "for ii, ax, ylbl in zip([1, case.Nm, case.Nm-1, case.Nm*2], axs, ['$\\eta_2$', '$\\mu_1$', '$\\eta_{N_m}$', '$\\mu_{N_m}$']):\n",
    "    ax.scatter(case.hist[:, 0], case.hist[:, ii], c=case.hist_t, cmap='Greens', s=10, marker='.')\n",
    "    ax.set(ylabel=ylbl)\n",
    "    if ii > case.Nm:\n",
    "        ax.set(xlabel='$\\eta_1$')\n",
    "        \n",
    "    ax.set_aspect(1. / ax.get_data_ratio())\n",
    "plt.show()"
   ],
   "id": "4431fd112541c029"
  },
  {
   "metadata": {},
   "cell_type": "markdown",
   "source": [
    "## 3. Visualize acoustic pressure along the tube\n",
    "\n",
    "The acoustic pressure at a location $x$ is computed as \n",
    "$$\n",
    "p(\\theta, t) = \\sum_{j=0}^{N_m}\\cos( \\cos\\theta + \\eta_b(t) \\sin\\theta.\n",
    "$$\n",
    "The angle $\\theta$ is defined such that $\\theta=0^\\circ$ corresponds to the bottom centre line of the combustor."
   ],
   "id": "8469569e85e5dbe1"
  },
  {
   "metadata": {},
   "cell_type": "code",
   "outputs": [],
   "execution_count": null,
   "source": [
    "\n",
    "\n",
    "y = case.get_observable_hist()\n",
    "lbl = case.obs_labels\n",
    "\n",
    "fig1 = plt.figure(figsize=(12, 10), layout=\"constrained\")\n",
    "all_axs = fig1.subplots(case.Nq, 2, sharex='col', sharey=True, width_ratios=[2,1])\n",
    "for axs, xl in zip([all_axs[:, 0], all_axs[:, 1]], [[0, -Nt_zoom], [-Nt_zoom, -1]]):\n",
    "    for ax, ii, lbl in zip(axs, np.arange(case.Nq), case.obs_labels):\n",
    "        ax.plot(case.hist_t, y[:, ii], c='C{}'.format(ii))\n",
    "        if xl[0] == 0:\n",
    "            ax.set(ylabel=lbl)\n",
    "    axs[-1].set(xlabel='$t$', xlim=[case.hist_t[xl[0]], case.hist_t[xl[-1]]])\n",
    "    \n",
    "        "
   ],
   "id": "20394b3db310de96"
  },
  {
   "metadata": {},
   "cell_type": "markdown",
   "source": [
    "We can also visualize the acoustic pressure in all the combustor as a video.\n",
    "\n",
    "*Note: the animation requires the \"mediapy\" module.*"
   ],
   "id": "ab55dc90e9460fa0"
  },
  {
   "metadata": {},
   "cell_type": "code",
   "outputs": [],
   "execution_count": null,
   "source": [
    "run_gif = True\n",
    "\n",
    "if run_gif:\n",
    "    pressure_video_name = 'figs_TA_longitudinal/'\n",
    "    os.makedirs(pressure_video_name, exist_ok=True)\n",
    "    pressure_video_name += 'Rijke.gif'\n",
    "    \n",
    "    # if not os.path.isfile(pressure_video_name):\n",
    "    y = case.get_observable_hist()\n",
    "    lbl = case.obs_labels\n",
    "    \n",
    "    fig1 = plt.figure(figsize=(12, 8), layout=\"constrained\")\n",
    "    sub_fig1 = fig1.subfigures(2, 1,  height_ratios=[0.5, 1. ])\n",
    "    \n",
    "    axs = sub_fig1[1].subplots(case.Nq//2, 2, sharey=True, sharex=True)\n",
    "    axs = axs.ravel()\n",
    "    for ax, ii, lbl in zip(axs, np.arange(case.Nq), case.obs_labels):\n",
    "        # ax.scatter(case.hist_t, y[:, ii], c='w')\n",
    "        ax.set(ylabel=lbl)\n",
    "    axs[-1].set(xlabel='$t$', xlim=[case.hist_t[0], case.hist_t[-1]])\n",
    "    axs[0].set_title('Acoustic pressure');\n",
    "    \n",
    "    ax2 = sub_fig1[0].subplots(1, 1)\n",
    "    \n",
    "    xx = np.linspace(0, case.L, 200) \n",
    "    y_all = case.get_observable_hist(loc=xx).squeeze()\n",
    "    \n",
    "    yy = [0, 0.25]\n",
    "    X, Y = np.meshgrid(xx / case.L, yy)\n",
    "    \n",
    "    ax2.set(yticklabels=[], title='Acoustic Pressure', xlabel='$x/L$')\n",
    "    \n",
    "    ax2.axvline(x=case.xf/case.L, color='k', ls='--', lw=3)\n",
    "\n",
    "\n",
    "    idx_max = np.argmax(abs(y[:, 0]))\n",
    "\n",
    "    lim = 10000\n",
    "    contour_levels = 200\n",
    "    Z_fake = np.ones(X.shape) * lim\n",
    "    Z_fake[:, 0] *= -1\n",
    "    cbar_mesh = ax2.contourf(X, Y, Z_fake,  cmap='RdBu', levels=contour_levels, vmin=-lim, vmax=lim)\n",
    "    cbar = plt.colorbar(cbar_mesh, ax=ax2, label='Pressure', shrink=0.75, extend='both')\n",
    "    tube_mesh = ax2.contourf(X, Y, [y_all[idx_max].T] * 2,  cmap='RdBu', levels=contour_levels, vmin=-lim, vmax=lim)\n",
    "\n",
    "    \n",
    "    start_i = int((case.hist_t[-1] - .01) // case.dt)\n",
    "    t_gif = case.hist_t[start_i:]\n",
    "    y_gif = y_all[start_i:]\n",
    "    y = y[start_i:]\n",
    "    t = case.hist_t[start_i:]\n",
    "    axs[-1].set(xlim=[t_gif[0], t_gif[-1]])\n",
    "    \n",
    "    def update(frame):\n",
    "        ax2.clear()\n",
    "        for ax, ii, lbl in zip(axs, np.arange(case.Nq), case.obs_labels):\n",
    "            ax.plot(t[:frame+1], y[:frame+1, ii], c='C{}'.format(ii), lw=2)\n",
    "            ax.set(ylabel=lbl)\n",
    "\n",
    "        tube_mesh = ax2.contourf(X, Y, [y_gif[frame+1].T] * 2,  cmap='RdBu', levels=contour_levels, vmin=-lim, vmax=lim)\n",
    "        ax2.axvline(x=case.xf/case.L, color='k', ls='--', lw=3)\n",
    "        ax2.set_title('Acoustic Pressure $t$ = {:.3f}'.format(t_gif[frame+1]))  \n",
    "    \n",
    "    anim = FuncAnimation(fig1, update,  frames=np.arange(len(t_gif)-1)[::3])\n",
    "    anim.save(pressure_video_name, fps=10, writer='pillow');\n",
    "    \n"
   ],
   "id": "ab3ccad27e6b6b94"
  },
  {
   "metadata": {},
   "cell_type": "code",
   "outputs": [],
   "execution_count": null,
   "source": "",
   "id": "7711aea71d4ac59"
  }
 ],
 "metadata": {
  "kernelspec": {
   "display_name": "Python 3 (ipykernel)",
   "language": "python",
   "name": "python3"
  },
  "language_info": {
   "codemirror_mode": {
    "name": "ipython",
    "version": 3
   },
   "file_extension": ".py",
   "mimetype": "text/x-python",
   "name": "python",
   "nbconvert_exporter": "python",
   "pygments_lexer": "ipython3",
   "version": "3.10.13"
  }
 },
 "nbformat": 4,
 "nbformat_minor": 5
}
