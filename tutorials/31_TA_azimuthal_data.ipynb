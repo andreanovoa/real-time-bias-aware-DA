{
 "cells": [
  {
   "cell_type": "markdown",
   "source": [
    "# TUTORIAL \n",
    "# Real thermoacoustic data from an annular combustor\n",
    "\n",
    "\n"
   ],
   "metadata": {
    "collapsed": false
   },
   "id": "44a188850be8240"
  },
  {
   "cell_type": "code",
   "execution_count": 14,
   "id": "initial_id",
   "metadata": {
    "collapsed": true,
    "ExecuteTime": {
     "end_time": "2024-02-13T13:36:28.745730Z",
     "start_time": "2024-02-13T13:36:28.735495Z"
    }
   },
   "source": [
    "import numpy as np\n",
    "import os\n",
    "import matplotlib.pyplot as plt\n",
    "from essentials.physical_models import Annular\n",
    "from scipy.signal import find_peaks\n",
    "import scipy.io as sio\n",
    "\n",
    "\n",
    "if os.path.isdir('/mscott/'):\n",
    "    data_folder = '/mscott/an553/data/'  # set working directory to \n",
    "    print()\n",
    "else:\n",
    "    data_folder = \"../data/\""
   ],
   "outputs": []
  },
  {
   "cell_type": "markdown",
   "source": [
    "\n",
    "\n",
    "The data available in data_folder are acoustic pressure measurements at the azimuthal locations $ \\theta = 0^\\circ, 60^\\circ, 120^\\circ, 240^\\circ.$\n",
    " \n",
    "Each .mat data file represents an experiment at different equivalence ratios $\\Phi = 0.4875, ..., 0.5750$ (by steps of $0.0125$); and the file includes the variables\n",
    "- y_raw: raw acoustic pressure recordings \n",
    "- y_filtered: post-processed acoustic pressure (mean offset correction and bandpass filter)\n",
    "- t: timestamp of the recordings\n"
   ],
   "metadata": {
    "collapsed": false
   },
   "id": "eb7b02668208ef3f"
  },
  {
   "cell_type": "code",
   "source": [
    "# Define .mat file names and equivalence ratios\n",
    "ERs = 0.4875 + np.arange(0, 8) * 0.0125\n",
    "files = [data_folder + '/annular/ER_{}.mat'.format(ER) for ER in ERs]\n"
   ],
   "metadata": {
    "collapsed": false,
    "ExecuteTime": {
     "end_time": "2024-02-13T13:36:28.760760Z",
     "start_time": "2024-02-13T13:36:28.749373Z"
    }
   },
   "id": "5752b9e88f76a92e",
   "execution_count": 15,
   "outputs": []
  },
  {
   "cell_type": "markdown",
   "source": [
    "\n",
    "Using the functions \"nu_from_ER\" and \"c2beta_from_ER\" we can compute fore each equivalence ratio the linear growth rate $\\nu$ and the asymmetry parameter group $c_2\\beta$, which allows us to replicate Fig. 9 in [Indlekofer et al. (2022)](https://doi.org/10.1017/jfm.2022.468).\n",
    "\n"
   ],
   "metadata": {
    "collapsed": false
   },
   "id": "12c5599e9c6a4ebc"
  },
  {
   "cell_type": "code",
   "source": [
    "NUs, C2Bs = [], []\n",
    "for ER in ERs:\n",
    "    NUs.append(Annular.nu_from_ER(ER))\n",
    "    C2Bs.append(Annular.c2beta_from_ER(ER))\n",
    "\n",
    "fig = plt.figure(figsize=(4, 3))\n",
    "plt.axhline(y=0, color='lightgrey', ls='--')\n",
    "plt.plot(ERs, NUs, '-', color='C0', label='$\\\\nu$')\n",
    "plt.plot(ERs, C2Bs, '-', color='r', label=Annular.params_labels['c2beta'])\n",
    "plt.xlabel('Equivalence ratio, $\\Phi$')\n",
    "plt.ylabel('[s$^{-1}$]')\n",
    "plt.ylim([-50, 50])\n",
    "plt.legend(loc='lower right');\n",
    "\n"
   ],
   "metadata": {
    "collapsed": false,
    "ExecuteTime": {
     "end_time": "2024-02-13T13:36:28.967541Z",
     "start_time": "2024-02-13T13:36:28.765294Z"
    }
   },
   "id": "bf9d79c7f8378ba7",
   "execution_count": 16,
   "outputs": []
  },
  {
   "cell_type": "markdown",
   "source": [
    "Let's visualize the power spectral density (PSD) of the acoustic pressure for each equivalence ratio.\n",
    "\n",
    "In the resulting figure we can see that some of the experiments had the microphone at $\\theta=120^\\circ$ off, as the PSD is zero.\n"
   ],
   "metadata": {
    "collapsed": false
   },
   "id": "16e38a5a56795f56"
  },
  {
   "cell_type": "code",
   "execution_count": 17,
   "source": [
    "\n",
    "def fun_PSD(X):\n",
    "    if X.shape[0] > X.shape[1]:\n",
    "        X = X.T\n",
    "    PSD = []\n",
    "    for x in X:\n",
    "        yt = np.fft.fft(x)\n",
    "        PSD.append(2.0 / X.shape[-1] * np.abs(yt[0:X.shape[-1] // 2]))\n",
    "    return PSD\n",
    "\n",
    "N, upsample = 1000, 2\n",
    "\n",
    "fig1 = plt.figure(figsize=(15, 5))\n",
    "axs = fig1.subplots(2, len(ERs)//2, sharey='all', sharex='all')\n",
    "for ER, name, ax in zip(ERs, files, axs.ravel()):\n",
    "    mat = sio.loadmat(name)\n",
    "    y_raw, t_obs = [mat[key] for key in ['y_raw', 't']]\n",
    "    y_raw = y_raw[-N::upsample]\n",
    "    if ER == ERs[0]:\n",
    "        Nq = y_raw.shape[-1]\n",
    "        t_obs = t_obs.squeeze()[::upsample]\n",
    "        dt = t_obs[1]-t_obs[0]\n",
    "        f = np.linspace(0.0, 1.0 / (2.0 * dt), (N//upsample) // 2)\n",
    "        colors = plt.cm.afmhot(np.linspace(0,0.7,Nq))[::-1]\n",
    "        \n",
    "    psd = fun_PSD(X=y_raw)\n",
    "    for psd_, c, lw in zip(psd, colors, [3, 2, 1.2, 0.8]):\n",
    "        ax.plot(f, psd_, color=c, lw=lw)\n",
    "    ax.set(title='$\\Phi={}$'.format(ER))\n",
    "    \n",
    "leg = ['$p(\\\\theta={}^\\circ)$'.format(deg) for deg in [0, 60, 120, 240]]\n",
    "axs[0, -1].legend(leg, loc='upper left', bbox_to_anchor=(1, 1))\n",
    "[ax.set(xlabel='$f$') for ax in axs[1, :]]\n",
    "[ax.set(ylabel='PSD', xlim=[100, 3000], ylim=[-10, 600]) for ax in axs[:, 0]];\n"
   ],
   "metadata": {
    "collapsed": false,
    "ExecuteTime": {
     "end_time": "2024-02-13T13:36:43.199057Z",
     "start_time": "2024-02-13T13:36:28.969352Z"
    }
   },
   "id": "72efe8580589da4b",
   "outputs": []
  },
  {
   "cell_type": "markdown",
   "source": [
    "We focus now on a single experiment. We can visualize the instantaneous pressure at each microphone. \n",
    "The figure shows how \n",
    "1. the post-processed data (i.e., y_filtered) is zero-mean, \n",
    "2. the post-processed signals are smoother, and\n",
    "3. the raw pdfs are wider and more flat."
   ],
   "metadata": {
    "collapsed": false
   },
   "id": "38fe4c9e47ea6528"
  },
  {
   "cell_type": "code",
   "execution_count": 18,
   "source": [
    "# Select an equivalence ratio\n",
    "idx = 4\n",
    "ER, name = ERs[idx], files[idx]\n",
    "\n",
    "# Load data\n",
    "mat = sio.loadmat(name)\n",
    "y_raw, y_filter, t = [mat[key] for key in ['y_raw', 'y_filtered', 't']]\n",
    "t = t.squeeze()\n",
    "Nq = y_raw.shape[-1]\n"
   ],
   "metadata": {
    "collapsed": false,
    "ExecuteTime": {
     "end_time": "2024-02-13T13:36:44.869806Z",
     "start_time": "2024-02-13T13:36:43.193884Z"
    }
   },
   "id": "aaf428e052653c3b",
   "outputs": []
  },
  {
   "cell_type": "code",
   "execution_count": 19,
   "source": [
    "\n",
    "upsample = 2\n",
    "N_max = int(20 / (t[1] - t[0])) \n",
    "\n",
    "y_raw_, y_filter_, t_ = [xx[0:N_max:upsample] for xx in [y_raw, y_filter, t]]\n",
    "\n",
    "\n",
    "fig1 = plt.figure(figsize=(13, 1.5 * Nq), layout=\"tight\")\n",
    "titles = ['Raw', 'Post-processed']\n",
    "labels_y = ['$p(\\\\theta={}^\\circ)$'.format(th) for th in [0, 60, 120, 240]]\n",
    "cols = ['tab:blue', 'mediumseagreen']\n",
    "\n",
    "max_y, N_zoom = np.max(y_raw_), int(0.0201 // (t_[1] - t_[0]))\n",
    "# Plot zoomed timeseries of raw, post-processed and noise\n",
    "axs = fig1.subplots(Nq, 5, sharex='col', sharey='all', width_ratios=[1.5, 1, 1.5, 1, 0.5])\n",
    "ax_raw , ax_filter, ax_pdf= axs[:, :2], axs[:, 2:4], axs[:, -1]\n",
    "\n",
    "for ax, yy, ttl, c in zip([ax_raw, ax_filter], [y_raw_, y_filter_], titles, cols):\n",
    "    ax[0, 0].set(title=ttl)\n",
    "    ax[-1, 0].set(xlabel='$t$', xlim=[t_[0], t_[-1]])\n",
    "    ax[-1, -1].set(xlabel='$t$', xlim=[t_[-N_zoom], t_[-1]])\n",
    "    for qi in range(Nq):\n",
    "        ax[qi, 0].plot(t_[:-N_zoom], yy[:-N_zoom, qi], color=c)\n",
    "        ax[qi, 1].plot(t_[-N_zoom:], yy[-N_zoom:, qi], color=c)\n",
    "        ax[qi, 1].plot([t_[0], t_[-1]], np.mean(yy[:, qi]) * np.array([1, 1]), color=c) \n",
    "        if ttl == titles[0]:\n",
    "            ax[qi, 0].set(ylabel=labels_y[qi])\n",
    "\n",
    "bins = np.arange(-max_y, max_y + 0.01 * max_y, 0.01 * max_y)\n",
    "for yy, ttl, c, a in zip([y_raw_, y_filter_], titles, cols, [1, 0.8]):\n",
    "    ax_pdf[0].set(title='Peaks count')\n",
    "    ax_pdf[-1].set(xlabel='pdf')\n",
    "    for qi in range(Nq):\n",
    "        peaks = find_peaks(abs(yy[:, qi]))[0]\n",
    "        ax_pdf[qi].hist(yy[peaks, qi], bins=bins, density=True, orientation='horizontal', color=c, alpha=a)\n"
   ],
   "metadata": {
    "collapsed": false,
    "ExecuteTime": {
     "end_time": "2024-02-13T13:36:49.865998Z",
     "start_time": "2024-02-13T13:36:44.877403Z"
    }
   },
   "id": "aea2f47183a82622",
   "outputs": []
  }
 ],
 "metadata": {
  "kernelspec": {
   "display_name": "Python 3",
   "language": "python",
   "name": "python3"
  },
  "language_info": {
   "codemirror_mode": {
    "name": "ipython",
    "version": 2
   },
   "file_extension": ".py",
   "mimetype": "text/x-python",
   "name": "python",
   "nbconvert_exporter": "python",
   "pygments_lexer": "ipython2",
   "version": "2.7.6"
  }
 },
 "nbformat": 4,
 "nbformat_minor": 5
}
