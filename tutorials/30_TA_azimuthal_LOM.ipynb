{
 "cells": [
  {
   "cell_type": "markdown",
   "id": "e2debaf4cf316c87",
   "metadata": {
    "collapsed": false
   },
   "source": [
    "# TUTORIAL: \n",
    "# Low order model of nonlinear thermocaoustic instabilities"
   ]
  },
  {
   "cell_type": "code",
   "execution_count": 11,
   "id": "initial_id",
   "metadata": {
    "ExecuteTime": {
     "end_time": "2024-02-15T12:36:17.255406Z",
     "start_time": "2024-02-15T12:36:16.986946Z"
    }
   },
   "source": [
    "import parent_folders # workaround path issue in jupyter notebook\n",
    "\n",
    "import matplotlib.pyplot as plt\n",
    "from matplotlib.animation import FuncAnimation\n",
    "from essentials.physical_models import Annular\n",
    "import numpy as np\n",
    "import mediapy, os\n"
   ],
   "outputs": []
  },
  {
   "cell_type": "markdown",
   "id": "6f176b198047cd69",
   "metadata": {
    "collapsed": false
   },
   "source": [
    "## 1. Define the thermoacoustic low order model\n",
    "\n",
    "#### Thermoacoustic model\n",
    "\n",
    "\n",
    "#### Example thermoacoustic modes:\n",
    "* Spinning modes: nu = 30., c2beta = 5.  \n",
    "* Standing modes: nu = 1., c2beta = 25.  \n",
    "* Mixed mode: nu = 20., c2beta = 18.  "
   ]
  },
  {
   "cell_type": "code",
   "execution_count": 16,
   "id": "100ca94a-011e-466e-bbe2-3a4aafd09b8e",
   "metadata": {
    "ExecuteTime": {
     "end_time": "2024-02-15T12:57:14.750565Z",
     "start_time": "2024-02-15T12:57:06.872842Z"
    }
   },
   "source": [
    "case = Annular(nu=20., \n",
    "               c2beta=10.)\n",
    "\n",
    "state, t_ = case.time_integrate(int(case.t_transient * 3 / case.dt))\n",
    "case.update_history(state, t_)\n"
   ],
   "outputs": []
  },
  {
   "cell_type": "markdown",
   "id": "5ec7c39249c5117a",
   "metadata": {
    "collapsed": false
   },
   "source": [
    "## 2. Visualize acoustic modes\n",
    "\n",
    "The state vector is formed of\n",
    "$$\n",
    "\\psi = [\\eta_a; \\dot{\\eta}_a; \\eta_b; \\dot{\\eta}_b],\n",
    "$$\n",
    "where $\\eta_a, \\eta_b$ are the acoustic velocity modes and $\\dot{\\eta}_a, \\dot{\\eta}_b$ are the acoustic pressure modes.\n"
   ]
  },
  {
   "cell_type": "code",
   "execution_count": 17,
   "id": "92a426679f88b6ee",
   "metadata": {
    "collapsed": false,
    "ExecuteTime": {
     "end_time": "2024-02-15T12:57:32.748129Z",
     "start_time": "2024-02-15T12:57:14.824498Z"
    }
   },
   "source": [
    "fig1 = plt.figure(figsize=(14, 5), layout=\"constrained\")\n",
    "sub_fig1 = fig1.subfigures(1, 2, width_ratios=[1.5, 1])\n",
    "axs = sub_fig1[0].subplots(2, 2, sharex='col', sharey='row', width_ratios=[1, 0.8])\n",
    "Nt_zoom = int(case.t_CR / case.dt)\n",
    "xlims = [[case.hist_t[0], case.hist_t[-1]-case.t_CR], [case.hist_t[-1]-case.t_CR, case.hist_t[-1]]]\n",
    "for axs_, xl, tl in zip([axs[:, 0], axs[:, 1]], xlims, ['Acoustic modes', '']):\n",
    "    for ii, ax, lbl in zip([0, 2], axs_, ['$\\eta_a$', '$\\eta_b$']):\n",
    "        ax.scatter(case.hist_t, case.hist[:, ii], c=case.hist_t, cmap='Blues', s=10, marker='.')\n",
    "        if xl == xlims[0]:\n",
    "            ax.set(ylabel=lbl)\n",
    "    axs_[-1].set(xlabel='$t$', xlim=xl)\n",
    "    axs_[0].set_title(tl)\n",
    "ax = sub_fig1[1].subplots(1, 1)\n",
    "ax.set_title('Phase space')\n",
    "ax.scatter(case.hist[:, 0], case.hist[:, 2], c=case.hist_t, cmap='Greens', s=10, marker='.')\n",
    "ax.set(xlabel='$\\eta_a$', ylabel='$\\eta_b$')\n",
    "ax.set_aspect(1. / ax.get_data_ratio())\n"
   ],
   "outputs": []
  },
  {
   "cell_type": "markdown",
   "id": "d3f83466afbe205d",
   "metadata": {
    "collapsed": false
   },
   "source": [
    "## 3. Visualize acoustic pressure in the annular combustor\n",
    "\n",
    "The acoustic pressure at an azimuthal angle $\\theta$ is computed as \n",
    "$$\n",
    "p(\\theta, t) = \\eta_a(t) \\cos\\theta + \\eta_b(t) \\sin\\theta.\n",
    "$$\n",
    "The angle $\\theta$ is defined such that $\\theta=0^\\circ$ corresponds to the bottom centre line of the combustor."
   ]
  },
  {
   "cell_type": "code",
   "execution_count": 18,
   "id": "3e70ae473a15991e",
   "metadata": {
    "collapsed": false,
    "ExecuteTime": {
     "end_time": "2024-02-15T12:57:39.615932Z",
     "start_time": "2024-02-15T12:57:32.742106Z"
    }
   },
   "source": [
    "\n",
    "\n",
    "y = case.get_observable_hist()\n",
    "lbl = case.obs_labels\n",
    "\n",
    "fig1 = plt.figure(figsize=(12, 5), layout=\"constrained\")\n",
    "all_axs = fig1.subplots(case.Nq, 2, sharex='col', sharey=True, width_ratios=[2,1])\n",
    "for axs, xl in zip([all_axs[:, 0], all_axs[:, 1]], [[0, -Nt_zoom], [-Nt_zoom, -1]]):\n",
    "    for ax, ii, lbl in zip(axs, np.arange(case.Nq), case.obs_labels):\n",
    "        ax.plot(case.hist_t, y[:, ii], c='C{}'.format(ii))\n",
    "        if xl[0] == 0:\n",
    "            ax.set(ylabel=lbl)\n",
    "    axs[-1].set(xlabel='$t$', xlim=[case.hist_t[xl[0]], case.hist_t[xl[-1]]])\n",
    "    \n",
    "    \n",
    "\n",
    "fig = plt.figure(figsize=(12, 3), layout=\"constrained\")\n",
    "all_ax2 = fig.subplots(1, 4, subplot_kw={'projection': 'polar'})\n",
    "angles = np.linspace(0, 2 * np.pi, 200)  # Angles from 0 to 2π\n",
    "y_all = case.get_observable_hist(loc=angles)\n",
    "y_all = np.mean(y_all, axis=-1)\n",
    "\n",
    "radius = [0, 0.5, 1]\n",
    "theta, r = np.meshgrid(angles, radius)\n",
    "    \n",
    "circle_radius = 0.5\n",
    "\n",
    "for ax2, ti in zip(all_ax2.ravel(), [-Nt_zoom, -Nt_zoom//3*2, -Nt_zoom//3, -1]):\n",
    "    # Remove radial tick labels\n",
    "    ax2.set(yticklabels=[], theta_zero_location='S', title='$t$ = {:.4f}'.format(case.hist_t[ti]) ,\n",
    "            theta_direction=1, rgrids=[], thetagrids=[])\n",
    "    \n",
    "    if ti == -1:\n",
    "        idx_max = np.argmax(y_all[:, 0])\n",
    "        polar_mesh = ax2.pcolormesh(theta, r, [y_all[idx_max].T] * len(radius), shading='auto', cmap='RdBu')\n",
    "        plt.colorbar(polar_mesh, label='Pressure')\n",
    "    \n",
    "    # Add a white concentric circle\n",
    "    ax2.pcolormesh(theta, r, [y_all[ti].T] * len(radius), shading='auto', cmap='RdBu')\n",
    "    ax2.plot(angles, [circle_radius] * len(angles), color='black', lw=1)\n",
    "    ax2.fill(angles, [circle_radius] * len(angles), color='white')\n",
    "    \n",
    "    \n",
    "\n",
    "    \n",
    "\n",
    "        "
   ],
   "outputs": []
  },
  {
   "cell_type": "markdown",
   "id": "8800dd752f0ccb59",
   "metadata": {
    "collapsed": false
   },
   "source": [
    "We can also visualize the acoustic pressure in all the combustor as a video.\n",
    "\n",
    "*Note: the animation requires the \"mediapy\" module.*"
   ]
  },
  {
   "cell_type": "code",
   "execution_count": 19,
   "id": "1e1887b6c302989e",
   "metadata": {
    "collapsed": false,
    "ExecuteTime": {
     "end_time": "2024-02-15T12:57:39.653214Z",
     "start_time": "2024-02-15T12:57:39.628571Z"
    }
   },
   "source": [
    "run_gif = False\n",
    "\n",
    "if run_gif:\n",
    "    pressure_video_name = 'figs_TA_azimuthal/'\n",
    "    os.makedirs(pressure_video_name, exist_ok=True)\n",
    "    pressure_video_name += 'nu{}_c2beta{}.gif'.format(case.nu, case.c2beta)\n",
    "    \n",
    "    if not os.path.isfile(pressure_video_name):\n",
    "        y = case.get_observable_hist()\n",
    "        lbl = case.obs_labels\n",
    "        \n",
    "        fig1 = plt.figure(figsize=(12, 6), layout=\"constrained\")\n",
    "        sub_fig1 = fig1.subfigures(1, 2, width_ratios=[1., 1])\n",
    "        axs = sub_fig1[0].subplots(case.Nq, 1, sharex='col', sharey=True)\n",
    "        for ax, ii, lbl in zip(axs, np.arange(case.Nq), case.obs_labels):\n",
    "            ax.scatter(case.hist_t, y[:, ii], c='w')\n",
    "            ax.set(ylabel=lbl)\n",
    "        axs[-1].set(xlabel='$t$', xlim=[case.hist_t[0], case.hist_t[-1]])\n",
    "        axs[0].set_title('Acoustic pressure');\n",
    "        \n",
    "        ax2 = sub_fig1[1].subplots(1, 1, subplot_kw={'projection': 'polar'})\n",
    "        angles = np.linspace(0, 2 * np.pi, 200)  # Angles from 0 to 2π\n",
    "        y_all = case.get_observable_hist(loc=angles)\n",
    "        y_all = np.mean(y_all, axis=-1)\n",
    "        \n",
    "        radius = [0, 0.5, 1]\n",
    "        theta, r = np.meshgrid(angles, radius)\n",
    "        \n",
    "        # Remove radial tick labels\n",
    "        ax2.set(yticklabels=[], theta_zero_location='S', title='Acoustic Pressure',\n",
    "                theta_direction=1, rgrids=[], thetagrids=[])\n",
    "        \n",
    "        # Add a white concentric circle\n",
    "        circle_radius = 0.5\n",
    "        ax2.plot(angles, [circle_radius] * len(angles), color='black', lw=1)\n",
    "        \n",
    "        idx_max = np.argmax(y_all[:, 0])\n",
    "        polar_mesh = ax2.pcolormesh(theta, r, [y_all[idx_max].T] * len(radius), shading='auto', cmap='RdBu')\n",
    "        \n",
    "        start_i = int((case.hist_t[-1] - .01) // case.dt)\n",
    "        dt_gif = 2\n",
    "        t_gif = case.hist_t[start_i::dt_gif]\n",
    "        y_gif = y_all[start_i::dt_gif]\n",
    "        y = y[start_i:]\n",
    "        t = case.hist_t[start_i:]\n",
    "        axs[-1].set(xlim=[t_gif[0], t_gif[-1]])\n",
    "        \n",
    "        def update(frame):\n",
    "            i0 = frame * dt_gif\n",
    "            for ax, ii, lbl in zip(axs, np.arange(case.Nq), case.obs_labels):\n",
    "                ax.plot(t[i0:i0+dt_gif], y[i0:i0+dt_gif, ii], c='C{}'.format(ii), lw=2)\n",
    "                ax.set(ylabel=lbl)\n",
    "            \n",
    "            ax2.fill(angles, [circle_radius] * len(angles), color='white')\n",
    "            polar_mesh.set_array([y_gif[frame+1].T] * len(radius))\n",
    "            ax2.set_title('Acoustic Pressure $t$ = {:.3f}'.format(t_gif[frame+1]))  \n",
    "        \n",
    "        plt.colorbar(polar_mesh, label='Pressure', shrink=0.75)\n",
    "        anim = FuncAnimation(fig1, update,  frames=len(t_gif)-1)\n",
    "        anim.save(pressure_video_name, fps=15)\n",
    "        \n",
    "    # Load and show the video\n",
    "    video = mediapy.read_video(pressure_video_name)\n",
    "    mediapy.show_video(video, width=900)"
   ],
   "outputs": []
  },
  {
   "cell_type": "code",
   "execution_count": 15,
   "id": "c1ca4ab86a6c02cc",
   "metadata": {
    "collapsed": false,
    "ExecuteTime": {
     "end_time": "2024-02-15T12:36:50.949317Z",
     "start_time": "2024-02-15T12:36:50.859946Z"
    }
   },
   "source": [],
   "outputs": []
  }
 ],
 "metadata": {
  "kernelspec": {
   "display_name": "Python 3 (ipykernel)",
   "language": "python",
   "name": "python3"
  },
  "language_info": {
   "codemirror_mode": {
    "name": "ipython",
    "version": 3
   },
   "file_extension": ".py",
   "mimetype": "text/x-python",
   "name": "python",
   "nbconvert_exporter": "python",
   "pygments_lexer": "ipython3",
   "version": "3.10.13"
  }
 },
 "nbformat": 4,
 "nbformat_minor": 5
}
