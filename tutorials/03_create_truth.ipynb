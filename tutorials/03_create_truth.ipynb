{
 "cells": [
  {
   "cell_type": "markdown",
   "id": "9db6947cc335d7a0",
   "metadata": {
    "collapsed": false
   },
   "source": [
    "# TUTORIAL\n",
    "# Create synthetic truth and observations\n",
    "\n",
    "This tutorial gives the details on how to use the function ```create_truth``` in ```essentials.create```.\n",
    "\n",
    "\n",
    "All the code below can be summarized as \n",
    "\n",
    "```\n",
    "truth = create_truth(TheModel, t_start=t_start, t_stop=t_stop, dt_obs=Nt_obs, t_max=t_max,\n",
    "                     std_obs=noise_level, noise_type=noise_type, manual_bias=manual_bias, **true_parameters)\n",
    "```\n"
   ]
  },
  {
   "cell_type": "code",
   "id": "ea18f1db4703453",
   "metadata": {
    "collapsed": false,
    "ExecuteTime": {
     "end_time": "2024-06-04T20:26:02.862735Z",
     "start_time": "2024-06-04T20:26:02.335750Z"
    }
   },
   "source": [
    "import numpy as np\n",
    "import matplotlib.pyplot as plt\n",
    "rng = np.random.default_rng(6)\n"
   ],
   "execution_count": 1,
   "outputs": []
  },
  {
   "cell_type": "markdown",
   "id": "a587dcf44f1f9a96",
   "metadata": {
    "collapsed": false
   },
   "source": [
    "### 1. Create timeseries from the low-order model\n",
    "\n",
    "Note that this data is clean and biased. Both the noise and the bias will be added in the next steps."
   ]
  },
  {
   "cell_type": "code",
   "id": "4fa554cf3779b5b",
   "metadata": {
    "collapsed": false,
    "ExecuteTime": {
     "end_time": "2024-06-04T20:26:03.778611Z",
     "start_time": "2024-06-04T20:26:02.864567Z"
    }
   },
   "source": [
    "from essentials.physical_models import Lorenz63 as TheModel # available models: VdP, Lorenz63, Rijke, Annular\n",
    "\n",
    "true_parameters = dict()\n",
    "case = TheModel(**true_parameters)\n",
    "\n",
    "t_max = case.t_transient * 5\n",
    "psi, t = case.time_integrate(int(t_max / case.dt))\n",
    "case.update_history(psi, t)\n",
    "\n",
    "# Retrieve observables\n",
    "y_true = case.get_observable_hist()\n",
    "t_true = case.hist_t\n",
    "\n"
   ],
   "execution_count": 2,
   "outputs": []
  },
  {
   "cell_type": "markdown",
   "id": "a067b45ed2c01b85",
   "metadata": {
    "collapsed": false
   },
   "source": [
    "### 2. (optional) Add bias \n",
    "\n",
    "If we do not add the bias, then the LOM is unbiased. Instead, if the true data is such that\n",
    "\n",
    "$$\n",
    "\\mathbf{y}^\\mathrm{true} =  \\mathbf{y}^\\mathrm{LOM} + \\mathbf{b}^\\mathrm{true}\n",
    "$$\n",
    "\n",
    "then the prediction from the LOM is biased.\n",
    "\n"
   ]
  },
  {
   "cell_type": "code",
   "id": "4a239bebe0acad57",
   "metadata": {
    "collapsed": false,
    "ExecuteTime": {
     "end_time": "2024-06-04T20:26:03.783960Z",
     "start_time": "2024-06-04T20:26:03.779570Z"
    }
   },
   "source": [
    "name_bias = 'no bias'  # linear, periodic, time-varying, or no bias\n",
    "def manual_bias(yy, tt):\n",
    "    if name_bias[0] == 'l':\n",
    "        return .1 * np.max(yy, axis=0) + .3 * yy\n",
    "    elif name_bias[0] == 'p':\n",
    "        return .2 * np.max(yy, axis=0) * np.cos(2 * yy / np.max(yy, axis=0))\n",
    "    elif name_bias[0] == 't':\n",
    "        return .4 * yy * np.sin((np.expand_dims(tt, -1) * np.pi * 2) ** 2)\n",
    "    elif name_bias[0] == 'n':\n",
    "        return np.zeros(1)\n",
    "    else:\n",
    "        raise ValueError('Bias type: ' + name_bias +' not recognzed.')\n",
    "\n",
    "# The manual bias is a function of state and/or time\n",
    "b_true = manual_bias(y_true, t_true)\n",
    "    \n",
    "# Add bias to the reference data\n",
    "y_true += b_true"
   ],
   "execution_count": 3,
   "outputs": []
  },
  {
   "cell_type": "markdown",
   "id": "96218648c3718e2d",
   "metadata": {
    "collapsed": false
   },
   "source": [
    "### 3. Add noise to the truth to create the observations\n",
    "\n",
    "The noise type can be selected| between [Gaussian] noise, or coloured noise, from colours white, pink, brown, blue, and violet. Further, one can define the noise to be either [additive] or multiplicative. \n",
    "\n",
    "Note: 'gaussian, additive' is the pre-defined setting in ```create_noisy_observations```."
   ]
  },
  {
   "cell_type": "code",
   "id": "d8bb3a82f3aeffe4",
   "metadata": {
    "collapsed": false,
    "ExecuteTime": {
     "end_time": "2024-06-04T20:26:03.792299Z",
     "start_time": "2024-06-04T20:26:03.785299Z"
    }
   },
   "source": [
    "from essentials.Util import colour_noise\n",
    "\n",
    "noise_level = 0.02\n",
    "noise_type = 'pink' + 'additive' \n",
    "\n",
    "Nt, q = y_true.shape[:2]\n",
    "y_raw = y_true.copy()\n",
    "\n",
    "if 'gauss' in noise_type.lower():\n",
    "    noise = rng.multivariate_normal(np.zeros(q), np.eye(q) * noise_level ** 2, Nt)\n",
    "else:\n",
    "    i0 = Nt % 2 != 0  # Add extra step if odd\n",
    "    noise = np.zeros([Nt, q, 1])\n",
    "    for ii in range(q):\n",
    "        noise_white = np.fft.rfft(rng.standard_normal(Nt + i0) * noise_level)\n",
    "        # Generate the noise signal\n",
    "        S = colour_noise(Nt + i0, noise_colour=noise_type)\n",
    "        S = noise_white * S / np.sqrt(np.mean(S ** 2))  # Normalize S\n",
    "        noise[:, ii, 0] = np.fft.irfft(S)[i0:]  # transform back into time domain\n",
    "if 'add' in noise_type.lower():\n",
    "    y_raw += noise * np.max(abs(y_true))\n",
    "else:\n",
    "    y_raw += noise * y_raw"
   ],
   "execution_count": 4,
   "outputs": []
  },
  {
   "cell_type": "markdown",
   "id": "fb91a7fecd75307f",
   "metadata": {
    "collapsed": false
   },
   "source": [
    "\n",
    "The function ```colour_noise```, which is included in *essentials.Util*, allows us to add different types of noises. We can visualize the different options."
   ]
  },
  {
   "cell_type": "code",
   "id": "2d82d2bbec1f234c",
   "metadata": {
    "collapsed": false,
    "ExecuteTime": {
     "end_time": "2024-06-04T20:26:06.179255Z",
     "start_time": "2024-06-04T20:26:03.794668Z"
    }
   },
   "source": [
    "N = 100000\n",
    "\n",
    "noise_white = np.fft.rfft(rng.standard_normal(N))\n",
    "freq = np.fft.rfftfreq(N)\n",
    "\n",
    "NOISES, PSDS = [], []\n",
    "COLOURS = ['white', 'pink', 'brown', 'blue', 'darkviolet']\n",
    "for noise_c in COLOURS:\n",
    "    S = colour_noise(N, noise_colour=noise_c)\n",
    "    S = noise_white * S / np.sqrt(np.mean(S ** 2))  # Normalize S\n",
    "    noise = np.fft.irfft(S)  # transform back into time domain\n",
    "\n",
    "    # Store\n",
    "    PSDS.append(abs(S))\n",
    "    NOISES.append(noise)\n",
    "    \n",
    "plt.style.use('dark_background')\n",
    "\n",
    "fig = plt.figure(figsize=(10, 5))\n",
    "figs = fig.subfigures(1, 2)\n",
    "ax = figs[1].subplots(1, 1)\n",
    "alpha = 1\n",
    "for psd, c in zip(PSDS, COLOURS):\n",
    "    ax.loglog(freq, psd, color=c, alpha=alpha)\n",
    "    alpha -= 0.15\n",
    "ax.legend(COLOURS)\n",
    "ax.set(xlabel='Frequency', ylim=[1e-3, None], title='PSD')\n",
    "    \n",
    "axs = figs[0].subplots(len(COLOURS), 1, sharex='col', sharey='col')\n",
    "alpha = 1\n",
    "N_plot = 1000\n",
    "for ax, noise, c in zip(axs, NOISES, COLOURS):\n",
    "    ax.plot(np.arange(N), noise, color=c, alpha=alpha)\n",
    "    alpha -= 0.15\n",
    "axs[0].set(title='Time domain', xlim=[0, 2*N_plot])\n",
    "axs[-1].set(xlabel='$t$');\n"
   ],
   "execution_count": 5,
   "outputs": []
  },
  {
   "cell_type": "markdown",
   "id": "69ff87e6b4d18e0",
   "metadata": {
    "collapsed": false
   },
   "source": [
    "We can observe that\n",
    "* White noise has an almost-flat PSD in the frequency domain, i.e., all the frequencies are equally present\n",
    "* Brownian and pink noises strength is lowest at higher frequencies, which is visualized in the time domain with seamingly non-zero mean.\n",
    "* Blue and violet noise strenght increases with the frequency."
   ]
  },
  {
   "cell_type": "markdown",
   "id": "8ce2d0fa165dcdc",
   "metadata": {
    "collapsed": false
   },
   "source": [
    "## 4. Define observations\n",
    "\n",
    "We define the assimilation window and the time between obsevations\n"
   ]
  },
  {
   "cell_type": "code",
   "id": "df1f889514042f01",
   "metadata": {
    "collapsed": false,
    "ExecuteTime": {
     "end_time": "2024-06-04T20:26:06.183695Z",
     "start_time": "2024-06-04T20:26:06.180190Z"
    }
   },
   "source": [
    "\n",
    "t_start = case.t_transient\n",
    "t_stop = t_start + 10 * case.t_CR\n",
    "\n",
    "dt_t = t_true[1] - t_true[0]\n",
    "Nt_obs = 20 \n",
    "dt_obs = dt_t * Nt_obs\n",
    "\n",
    "\n",
    "obs_idx = np.arange(t_start // dt_t, t_stop // dt_t + 1, Nt_obs, dtype=int)\n",
    "t_obs, y_obs = t_true[obs_idx], y_raw[obs_idx]\n"
   ],
   "execution_count": 6,
   "outputs": []
  },
  {
   "cell_type": "markdown",
   "id": "9ee529ae0387b51f",
   "metadata": {
    "collapsed": false
   },
   "source": [
    "### 5. Finally, save the data in a dictionary"
   ]
  },
  {
   "cell_type": "code",
   "id": "9ccf71b37517d7a7",
   "metadata": {
    "collapsed": false,
    "ExecuteTime": {
     "end_time": "2024-06-04T20:26:06.188117Z",
     "start_time": "2024-06-04T20:26:06.184858Z"
    }
   },
   "source": [
    "name_truth = '{}_{}_{}'.format(case.name, name_bias, noise_type)\n",
    "for key in case.params:\n",
    "    name_truth += key + '{:.2e}'.format(getattr(case, key)) + '_'\n",
    "\n",
    "truth = dict(y_raw=y_raw, y_true=y_true, t=t_true, b=b_true, dt=dt_t,\n",
    "             t_obs=t_obs, y_obs=y_obs, dt_obs=dt_obs,\n",
    "             name=name_truth, name_bias=name_bias, noise_type=noise_type,\n",
    "             model=type(case), std_obs=noise_level, true_params=true_parameters)"
   ],
   "execution_count": 7,
   "outputs": []
  },
  {
   "cell_type": "markdown",
   "id": "311ccda486801668",
   "metadata": {
    "collapsed": false
   },
   "source": [
    "With the function ```plot_truth``` in ```essentials.Util``` we can visualize the created true data."
   ]
  },
  {
   "cell_type": "code",
   "id": "8f7ee62dda8134",
   "metadata": {
    "collapsed": false,
    "ExecuteTime": {
     "end_time": "2024-06-04T20:26:08.225378Z",
     "start_time": "2024-06-04T20:26:06.189133Z"
    }
   },
   "source": [
    "from essentials.plotResults import plot_truth\n",
    "\n",
    "plot_truth(**truth)"
   ],
   "execution_count": 8,
   "outputs": []
  },
  {
   "cell_type": "code",
   "id": "d4328219-8c09-49ab-b5dc-7850b0da7a2a",
   "metadata": {
    "ExecuteTime": {
     "end_time": "2024-06-04T20:26:08.228813Z",
     "start_time": "2024-06-04T20:26:08.226742Z"
    }
   },
   "source": [],
   "execution_count": 8,
   "outputs": []
  }
 ],
 "metadata": {
  "kernelspec": {
   "name": "da-env",
   "language": "python",
   "display_name": "da-env"
  },
  "language_info": {
   "codemirror_mode": {
    "name": "ipython",
    "version": 3
   },
   "file_extension": ".py",
   "mimetype": "text/x-python",
   "name": "python",
   "nbconvert_exporter": "python",
   "pygments_lexer": "ipython3",
   "version": "3.10.13"
  }
 },
 "nbformat": 4,
 "nbformat_minor": 5
}
