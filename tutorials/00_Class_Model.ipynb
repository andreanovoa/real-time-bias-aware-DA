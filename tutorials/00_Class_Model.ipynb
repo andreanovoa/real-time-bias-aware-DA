{
 "cells": [
  {
   "cell_type": "markdown",
   "id": "cdad2781b062b8bf",
   "metadata": {
    "collapsed": false
   },
   "source": [
    "# TUTORIAL: \n",
    "# Using the class Model in \"essentials.physical_models\"\n",
    "\n"
   ]
  },
  {
   "cell_type": "code",
   "id": "initial_id",
   "metadata": {
    "ExecuteTime": {
     "end_time": "2024-06-04T20:19:48.446436Z",
     "start_time": "2024-06-04T20:19:47.166601Z"
    }
   },
   "source": [
    "import parent_folders # workaround path issue in jupyter notebook\n",
    "\n",
    "from essentials.physical_models import *\n",
    "import time\n",
    "import matplotlib.pyplot as plt"
   ],
   "execution_count": 1,
   "outputs": []
  },
  {
   "cell_type": "markdown",
   "id": "f3c74bd64c008748",
   "metadata": {
    "collapsed": false
   },
   "source": [
    "#### 1. Initialise a model from physical_models using the defaults parameters\n",
    "The available models are:\n",
    "* Lorenz63\n",
    "* Rijke\n",
    "* Annular\n",
    "* Van der Pol"
   ]
  },
  {
   "cell_type": "code",
   "id": "9f8f6abfa2cfe701",
   "metadata": {
    "collapsed": false,
    "ExecuteTime": {
     "end_time": "2024-06-04T20:19:48.450507Z",
     "start_time": "2024-06-04T20:19:48.447853Z"
    }
   },
   "source": [
    "model = Lorenz63()\n"
   ],
   "execution_count": 2,
   "outputs": []
  },
  {
   "cell_type": "markdown",
   "id": "8b174900c4292813",
   "metadata": {
    "collapsed": false
   },
   "source": [
    "#### 2. Forecast the model as a single case\n",
    "\n",
    "First, save the history of the class and then get the obseervable history. \n",
    "Note that, although in the Lorenz case the observabes are equivalent to the state variables, in more complex models such as the Rijke tube model, the observables are a function of the state variables."
   ]
  },
  {
   "cell_type": "code",
   "id": "f4a028cd7dbfb990",
   "metadata": {
    "collapsed": false,
    "ExecuteTime": {
     "end_time": "2024-06-04T20:19:51.878479Z",
     "start_time": "2024-06-04T20:19:48.451582Z"
    }
   },
   "source": [
    "case = model.copy()\n",
    "Nt_forecast = int(2 * case.t_transient / case.dt)\n",
    "\n",
    "t1 = time.time()\n",
    "state, t_ = case.time_integrate(Nt_forecast)\n",
    "case.update_history(state, t_)\n",
    "\n",
    "single_case_time = time.time() - t1\n",
    "print('Elapsed time = ', str(single_case_time))\n",
    "\n",
    "# history of the model observables \n",
    "t_h = case.hist_t\n",
    "y = case.get_observable_hist()\n",
    "lbl = case.obs_labels\n",
    "\n",
    "# Plot the time evolution of the observables\n",
    "t_zoom = int(case.t_CR / case.dt)\n",
    "\n",
    "fig = plt.figure(figsize=(12, 7.5), layout=\"constrained\")\n",
    "axs = fig.subplots(case.Nq, 2, sharey='row', sharex='col')\n",
    "\n",
    "for ii, ax in enumerate(axs):\n",
    "    ax[0].plot(t_h, y[:, ii])\n",
    "    ax[1].plot(t_h[-t_zoom:], y[-t_zoom:, ii])\n",
    "    ax[0].set(ylabel=lbl[ii])\n",
    "    if ii == case.Nq-1:\n",
    "        ax[0].set(xlabel='$t$', xlim=[t_h[0], t_h[-t_zoom]])\n",
    "        ax[1].set(xlabel='$t$', xlim=[t_h[-t_zoom], t_h[-1]])\n",
    "\n"
   ],
   "execution_count": 3,
   "outputs": []
  },
  {
   "cell_type": "markdown",
   "id": "f807c0ae4a38e3",
   "metadata": {
    "collapsed": false
   },
   "source": [
    "#### 2. Forecast an ensemble of states\n",
    "The class Model is paralellized to save computation time. "
   ]
  },
  {
   "cell_type": "code",
   "id": "a053cc3c6c5b416d",
   "metadata": {
    "collapsed": false,
    "ExecuteTime": {
     "end_time": "2024-06-04T20:19:55.458444Z",
     "start_time": "2024-06-04T20:19:51.879555Z"
    }
   },
   "source": [
    "case = model.copy()\n",
    "\n",
    "# Generate ensemble\n",
    "t1 = time.time()\n",
    "case.init_ensemble(m=100, \n",
    "                   est_a=case.params[:2], \n",
    "                   std_psi=0.1, \n",
    "                   std_a=0.4, # the parameters uncertainty can also be defined individually in a dictionary\n",
    "                   alpha_distr='uniform')\n",
    "\n",
    "state, t_ = case.time_integrate(Nt=Nt_forecast)\n",
    "# add the forecast to the model history\n",
    "case.update_history(state, t_, reset=True)\n",
    "\n",
    "ensemble_case_time = time.time() - t1\n",
    "print('Elapsed ensemble time = {} < {} x {}'.format(ensemble_case_time, case.m, single_case_time))"
   ],
   "execution_count": 4,
   "outputs": []
  },
  {
   "cell_type": "code",
   "id": "1783b157992f53d4",
   "metadata": {
    "collapsed": false,
    "ExecuteTime": {
     "end_time": "2024-06-04T20:19:55.467752Z",
     "start_time": "2024-06-04T20:19:55.462365Z"
    }
   },
   "source": [
    "# history of the model observables \n",
    "t_h = case.hist_t\n",
    "y = case.get_observable_hist()\n",
    "lbl = case.obs_labels"
   ],
   "execution_count": 5,
   "outputs": []
  },
  {
   "cell_type": "code",
   "id": "27fc6a41d0601543",
   "metadata": {
    "collapsed": false,
    "ExecuteTime": {
     "end_time": "2024-06-04T20:19:57.051922Z",
     "start_time": "2024-06-04T20:19:55.469138Z"
    }
   },
   "source": [
    "# Plot the time evolution of the observables\n",
    "t_zoom = int(case.t_CR / case.dt)\n",
    "\n",
    "fig = plt.figure(figsize=(12, 7.5), layout=\"constrained\")\n",
    "axs = fig.subplots(case.Nq, 2, sharey='row', sharex='col')\n",
    "\n",
    "for ii, ax in enumerate(axs):\n",
    "    ax[0].plot(t_h, y[:, ii])\n",
    "    ax[1].plot(t_h[-t_zoom:], y[-t_zoom:, ii])\n",
    "    ax[0].set(ylabel=lbl[ii])\n",
    "    if ii == case.Nq-1:\n",
    "        ax[0].set(xlabel='$t$', xlim=[t_h[0], t_h[-t_zoom]])\n",
    "        ax[1].set(xlabel='$t$', xlim=[t_h[-t_zoom], t_h[-1]])\n",
    "\n",
    "\n"
   ],
   "execution_count": 6,
   "outputs": []
  },
  {
   "cell_type": "code",
   "id": "288861737ac5bb6f",
   "metadata": {
    "collapsed": false,
    "ExecuteTime": {
     "end_time": "2024-06-04T20:19:58.453990Z",
     "start_time": "2024-06-04T20:19:57.052932Z"
    }
   },
   "source": [
    "\n",
    "# Plot the parameters params\n",
    "c = ['g', 'sandybrown', 'mediumpurple', 'cyan']\n",
    "mean = np.mean(case.hist, -1, keepdims=True)\n",
    "\n",
    "ii = case.Nphi\n",
    "mean_p, hist_p, std_p, labels_p = [], [], [], []\n",
    "for p in case.est_a:\n",
    "    m_ = mean[:, ii].squeeze()\n",
    "    s = 2*abs(np.std(case.hist[:, ii], axis=1))\n",
    "    labels_p.append(case.alpha_labels[p])\n",
    "    mean_p.append(m_)\n",
    "    std_p.append(s)\n",
    "    hist_p.append(case.hist[:, ii, :])\n",
    "    ii += 1\n",
    "\n",
    "colors_alpha = ['green', 'sandybrown', [0.7, 0.7, 0.87], 'blue', 'red', 'gold', 'deepskyblue']\n",
    "\n",
    "fig = plt.figure(figsize=(12, 7.5), layout=\"constrained\")\n",
    "axs = fig.subplots(case.Na, 1, sharex='col')\n",
    "if type(axs) is not np.ndarray:\n",
    "    axs = [axs]\n",
    "for ax, p, h, avg, s, c, lbl in zip(axs, case.est_a, hist_p, mean_p, std_p, colors_alpha, labels_p):\n",
    "    ax.fill_between(case.hist_t, avg + abs(s), avg - abs(s), alpha=0.2, color=c, label='2 std')\n",
    "    ax.plot(case.hist_t, avg, color=c, label='mean', lw=2)\n",
    "    ax.plot(case.hist_t, h, color=c, lw=0.3, alpha=0.8)\n",
    "    ax.legend(loc='upper right', fontsize='small', ncol=2)\n",
    "    ax.set(ylabel=lbl, ylim=[np.min(avg) - 3/2*np.max(s), np.max(avg)+3/2*np.max(s)])\n",
    "    if lbl == labels_p[-1]:\n",
    "        ax.set(xlabel='$t$', xlim=[case.hist_t[0], case.hist_t[-1]])\n",
    "        "
   ],
   "execution_count": 7,
   "outputs": []
  },
  {
   "cell_type": "code",
   "id": "964ddcf1b32c29a",
   "metadata": {
    "collapsed": false,
    "ExecuteTime": {
     "end_time": "2024-06-04T20:19:58.459179Z",
     "start_time": "2024-06-04T20:19:58.456590Z"
    }
   },
   "source": [],
   "execution_count": 7,
   "outputs": []
  }
 ],
 "metadata": {
  "kernelspec": {
   "display_name": "Python 3 (ipykernel)",
   "language": "python",
   "name": "python3"
  },
  "language_info": {
   "codemirror_mode": {
    "name": "ipython",
    "version": 3
   },
   "file_extension": ".py",
   "mimetype": "text/x-python",
   "name": "python",
   "nbconvert_exporter": "python",
   "pygments_lexer": "ipython3",
   "version": "3.10.13"
  }
 },
 "nbformat": 4,
 "nbformat_minor": 5
}
