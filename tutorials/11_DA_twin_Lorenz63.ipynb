{
 "cells": [
  {
   "cell_type": "markdown",
   "id": "46b2f31b-abeb-4919-9a6a-8a2e952823ae",
   "metadata": {},
   "source": [
    "# TUTORIAL: Real-time data assimilation in a chaotic system\n",
    "<script src='https://cdnjs.cloudflare.com/ajax/libs/mathjax/2.7.4/MathJax.js?config=default'></script>\n",
    "\n",
    "\n",
    "* [The Ensemble Kalman filter (recap)](#enKF)\n",
    "* [Test case: twin experiment on the Lorenz63 model](#twin)\n",
    "    * [The true state and parameters](#truth)\n",
    "    * [The observations](#obs)\n",
    "    * [The ensemble](#ens)\n",
    "    * [Data assimilation](#da)"
   ]
  },
  {
   "cell_type": "code",
   "id": "b2f8a72a-ce2d-4202-a21c-e42aac2b6a12",
   "metadata": {
    "ExecuteTime": {
     "end_time": "2024-06-04T17:20:34.569593Z",
     "start_time": "2024-06-04T17:20:34.567Z"
    }
   },
   "source": [
    "import os, sys\n",
    "module_path = os.path.abspath(os.path.join('funcs'))\n",
    "if module_path not in sys.path:\n",
    "    sys.path.append(module_path)"
   ],
   "execution_count": 4,
   "outputs": []
  },
  {
   "cell_type": "markdown",
   "id": "15396cce2b7333c1",
   "metadata": {
    "collapsed": false,
    "jupyter": {
     "outputs_hidden": false
    }
   },
   "source": [
    "## The Ensemble Kalman filter <a class=\"anchor\" id=\"enKF\"></a>\n",
    "\n",
    "As explained in tutorial 10, real-time data assimilation updates our knowledge in the model state $\\boldsymbol{\\phi}$ and the parameters $\\boldsymbol{\\alpha}$ when observation data of the modelled physical quantity become available. To perform state and parameter estimation, we introduced the augmented state vector $\\boldsymbol{\\psi}=[\\boldsymbol{\\phi};\\boldsymbol{\\alpha};\\mathbf{q}]$, such that\n",
    "$$\n",
    "\\begin{align}\n",
    "\\left\\{\n",
    "\\begin{array}{rcl}\n",
    "\\mathrm{d}\\boldsymbol{\\psi} &=& \\mathbf{F}\\left(\\boldsymbol{\\psi} +\\boldsymbol{\\epsilon}_\\psi\\right){\\mathrm{d} t}  \\\\\n",
    "\\mathbf{q} &=& \\mathbf{M}\\mathbf{\\psi}  + \\boldsymbol{\\epsilon}_{q}\n",
    "\\end{array}\n",
    "\\right.\n",
    "\\end{align}\n",
    "$$ where $\\mathbf{F}$ and $\\boldsymbol{\\epsilon}_\\psi$ are the augmented nonlinear operator and aleatoric uncertainties, respectively; $\\mathbf{M} = \\left[\\mathbf{0}~\\big|~\\mathbb{I}_{N_q}\\right]$ is the linear measurement operator.\n",
    "\n",
    "We take a stochastic ensemble data assimilation approach to tackle nonlinear dynamics. Algorithmically, \n",
    "1. we forecast in time $m$-realizations of the augmented state to obtain an ensemble of forecast states $\\boldsymbol{\\psi}_j^\\text{f}$; \n",
    "2. when data $\\mathbf{d}$ become available, we use real-time data assimilation (e.g., the ensemble Kalman filter (EnKF)) to statistically combine the data with the forecast ensemble, which yields the analysis ensemble $\\boldsymbol{\\psi}_j^\\mathrm{a}$; \n",
    "3. we re-initialize the model with the analysis ensemble to perform the next analysis step. \n",
    "\n",
    "</p>\n"
   ]
  },
  {
   "cell_type": "code",
   "id": "initial_id",
   "metadata": {
    "ExecuteTime": {
     "end_time": "2024-06-04T17:20:34.607626Z",
     "start_time": "2024-06-04T17:20:34.601473Z"
    }
   },
   "source": [
    "%matplotlib widget\n",
    "\n",
    "import numpy as np\n",
    "from scipy import linalg\n",
    "rng = np.random.default_rng(0)\n",
    "\n",
    "def EnKF(case, observations, C_dd):\n",
    "    \"\"\" \n",
    "        Inputs:\n",
    "            case: ensemble forecast as a class object\n",
    "            observations: observation at time t\n",
    "            C_dd: observation error covariance matrix\n",
    "        Returns:\n",
    "            Aa: analysis ensemble \n",
    "    \"\"\"\n",
    "    Af = np.vstack((case.get_current_state, \n",
    "                    case.get_observables()))    # augmented state matrix [phi; alpha; q] x m\n",
    "    \n",
    "    psi_f_m = np.mean(Af, 1, keepdims=True)     # ensemble mean\n",
    "    Psi_f = Af - psi_f_m                        # deviations from the mean\n",
    "    \n",
    "    # Create an ensemble of observations\n",
    "    D = rng.multivariate_normal(observations, C_dd, case.m).transpose()\n",
    "    \n",
    "    # Mapped forecast matrix M(Af) and mapped deviations M(Af')\n",
    "    Y = np.dot(case.M, Af)\n",
    "    S = np.dot(case.M, Psi_f)\n",
    "    \n",
    "    C = (case.m - 1) * Cdd + np.dot(S, S.T)  # Kalman gain matrix\n",
    "    X = np.dot(S.T, np.dot(linalg.inv(C), (D - Y)))\n",
    "\n",
    "    return Af + np.dot(Af, X)"
   ],
   "execution_count": 5,
   "outputs": []
  },
  {
   "cell_type": "markdown",
   "id": "ba7e04a3715ea33b",
   "metadata": {
    "collapsed": false,
    "jupyter": {
     "outputs_hidden": false
    }
   },
   "source": [
    "\n",
    "\n",
    "## Test case: twin experiment on the Lorenz63 model <a class=\"anchor\" id=\"twin\"></a>\n",
    "\n",
    "\n",
    "In real scenarios, we do not have access to the truth, and thus we do not know which are the optimal state and parameters which estimate the system under investigation. In this tutorial, we investigate the EnKF with a twin experiment, which consist of generating a synthetic true state from the same numerical model as the forecast, and then create the observations by adding stochastic uncertainty to the synthetic truth. This is, we compute the truth $\\mathbf{d}^\\dagger$ as \n",
    "$$\n",
    "\\begin{equation}\n",
    "\\left\\{\n",
    "\\begin{array}{rcl}\n",
    "\\mathrm{d}\\boldsymbol{\\psi^\\dagger } &=& \\mathbf{F}\\left(\\boldsymbol{\\psi}^\\dagger\\right){\\mathrm{d} t}  \\\\\n",
    "\\mathbf{d}^\\dagger &=& \\mathbf{M}\\mathbf{\\psi}^\\dagger\n",
    "\\end{array}\n",
    "\\right.\n",
    "\\end{equation}\n",
    "$$\n",
    "and the observations as  $\\mathbf{d} = \\mathbf{d}^\\dagger +  \\boldsymbol{\\epsilon}_d$. During the assimilation we assume that we do not know the true state and parameters $\\mathbf{\\psi}^\\dagger$, and our objective is to recover them. \n",
    "\n",
    "We investigate the Lorenz63 model consists of the system of ordinary differential equations \n",
    "$$\n",
    "\\begin{align}\n",
    "\\left\\{\n",
    "\\begin{array}{rcl}\n",
    "\\frac{\\mathrm{d}x}{\\mathrm{d}t} &= &\\sigma (y - x) \\\\\n",
    "\\frac{\\mathrm{d}y}{\\mathrm{d}t} &= &x (\\rho - z) - y \\\\\n",
    "\\frac{\\mathrm{d}z}{\\mathrm{d}t} &= &x y - \\beta z.\n",
    "\\end{array}\\right.\n",
    "\\end{align}\n",
    "$$\n",
    "\n",
    "In the state-space formulation introduced above, we have the state variables $\\boldsymbol{\\phi}=[x;y;x]$, the model parameters  $\\boldsymbol{\\alpha}=[\\sigma;\\rho;\\beta]$ and the operator $\\mathbf{F}$ is the right hand side of the equations. In this problem, we assume that the observables are the state variables. \n",
    " \n",
    "### Chaotic dynamics in data assimilation\n",
    "\n",
    "The Lorenz63 model exhibits chaotic dynamics at certain combinations of parameters. Chaotic systems make data assimilation challenging because their predictability horizon is short due to the butterfly effect. For instance, at $\\boldsymbol{\\alpha}=[10; 28; 8/3]$ two solutions initialized with 0.01\\% difference evolve as \n",
    "\n",
    "<img src=\"figs/Lorenz_butterfly.gif\" width=\"750\" align=\"center\">\n",
    "\n",
    "The predictability horizon in chaotic systems is given by the Lyapunov time, i.e., the time for the distance between two nearby trajectories in the phase space increases by a factor of e. The Lyapunov time is th inverse of the maximal Lyapunov exponent. For the Lorenz system, the maximal Lyapunov exponent is known to be about 0.9056. "
   ]
  },
  {
   "cell_type": "markdown",
   "id": "2af131119e74fee4",
   "metadata": {
    "collapsed": false,
    "jupyter": {
     "outputs_hidden": false
    }
   },
   "source": [
    "\n",
    "\n",
    "### 1) The true state and parameters <a class=\"anchor\" id=\"truth\"></a>\n",
    "\n"
   ]
  },
  {
   "cell_type": "code",
   "id": "51dc6bf36777a88c",
   "metadata": {
    "collapsed": false,
    "jupyter": {
     "outputs_hidden": false
    },
    "ExecuteTime": {
     "end_time": "2024-06-04T17:20:35.552164Z",
     "start_time": "2024-06-04T17:20:34.615571Z"
    }
   },
   "source": [
    "\n",
    "from essentials.physical_models import Lorenz63\n",
    "\n",
    "\n",
    "dt_t = 0.015\n",
    "t_lyap = 0.9056 ** (-1)  # Lyapunov Time (inverse of maximal Lyapunov exponent)\n",
    "\n",
    "true_params = dict(dt=dt_t,\n",
    "                   rho=28.,\n",
    "                   sigma=10.,\n",
    "                   beta=8. / 3.,\n",
    "                   psi0=rng.random(3)+10,\n",
    "                   observe_dims=[0, 1]     # Select the dimensions to observe\n",
    "                   )\n",
    "\n",
    "# Initialize model\n",
    "true_case = Lorenz63(**true_params)\n",
    "\n",
    "# Forecast model\n",
    "t_max = t_lyap * 100\n",
    "psi, t = true_case.time_integrate(int(t_max / true_case.dt))\n",
    "true_case.update_history(psi, t)\n"
   ],
   "execution_count": 6,
   "outputs": []
  },
  {
   "cell_type": "markdown",
   "id": "9d44f95deafd33b7",
   "metadata": {
    "collapsed": false,
    "jupyter": {
     "outputs_hidden": false
    }
   },
   "source": [
    "### 2) The observations <a class=\"anchor\" id=\"obs\"></a>"
   ]
  },
  {
   "cell_type": "code",
   "id": "b22bd06b19dd77d9",
   "metadata": {
    "collapsed": false,
    "jupyter": {
     "outputs_hidden": false
    },
    "ExecuteTime": {
     "end_time": "2024-06-04T17:20:35.590203Z",
     "start_time": "2024-06-04T17:20:35.555062Z"
    }
   },
   "source": [
    "from essentials.create import create_noisy_signal\n",
    "\n",
    "# Retrieve observables\n",
    "d_true = true_case.get_observable_hist().squeeze()\n",
    "t_true = true_case.hist_t\n",
    "\n",
    "std_obs = 0.02\n",
    "noise_type = 'gaussian, additive'  # gaussian or coloured noise (white, pink, brown, blue, and violet), and either additive or multiplicative. \n",
    "d_raw = create_noisy_signal(d_true, noise_level=std_obs, noise_type=noise_type)\n",
    "\n",
    "\n",
    "# Draw data points from raw data\n",
    "dt_obs = t_lyap * .4  # time between analyses\n",
    "Nt_obs = dt_obs // dt_t\n",
    "t_start, t_stop = t_lyap * 10, t_lyap * 60 # start and end of assimilation\n",
    "\n",
    "obs_idx = np.arange(t_start // dt_t, t_stop // dt_t + Nt_obs, Nt_obs, dtype=int)\n",
    "d_obs, t_obs = d_raw[obs_idx].squeeze(), t_true[obs_idx]\n"
   ],
   "execution_count": 7,
   "outputs": []
  },
  {
   "cell_type": "code",
   "id": "0da532c4-2dd8-4ded-80ab-3f92c8f143ea",
   "metadata": {
    "ExecuteTime": {
     "end_time": "2024-06-04T17:20:36.728541Z",
     "start_time": "2024-06-04T17:20:35.591351Z"
    }
   },
   "source": [
    "# Visualize the truth and observations\n",
    "from essentials.plotResults import plot_truth\n",
    "plot_truth(model=Lorenz63, y_raw=d_raw, y_true=d_true, t=t_true, dt=dt_t, y_obs=d_obs, t_obs=t_obs, f_max=10)"
   ],
   "execution_count": 8,
   "outputs": []
  },
  {
   "cell_type": "markdown",
   "id": "13c810769580698d",
   "metadata": {
    "collapsed": false,
    "jupyter": {
     "outputs_hidden": false
    }
   },
   "source": [
    "### 3) Define the forecast ensemble  <a class=\"anchor\" id=\"ens\"></a>\n",
    "We create an ensemble with randomly generated states and parameters"
   ]
  },
  {
   "cell_type": "code",
   "id": "bad528931c63aec9",
   "metadata": {
    "collapsed": false,
    "jupyter": {
     "outputs_hidden": false
    },
    "ExecuteTime": {
     "end_time": "2024-06-04T17:20:36.749071Z",
     "start_time": "2024-06-04T17:20:36.731204Z"
    }
   },
   "source": [
    "from essentials.create import create_ensemble\n",
    "\n",
    "alpha0 = dict(rho=(25., 35.),\n",
    "              beta=(2, 4),\n",
    "              sigma=(5,15))\n",
    "\n",
    "forecast_params = dict(model=Lorenz63,      \n",
    "                       dt=dt_t,             \n",
    "                       m=50,               # Number of ensemble members\n",
    "                       std_psi=0.2,        # Initial uncertainty in the state\n",
    "                       std_a=alpha0,       # Initial uncertainty in the parameters\n",
    "                       sigma=10.,\n",
    "                       beta=8. / 3.,\n",
    "                       observe_dims=true_params['observe_dims']\n",
    "                       )\n",
    "\n",
    "ensemble = create_ensemble(**forecast_params)\n"
   ],
   "execution_count": 9,
   "outputs": []
  },
  {
   "cell_type": "code",
   "id": "105c30f5b93a42d8",
   "metadata": {
    "collapsed": false,
    "jupyter": {
     "outputs_hidden": false
    },
    "ExecuteTime": {
     "end_time": "2024-06-04T17:20:39.956311Z",
     "start_time": "2024-06-04T17:20:36.750461Z"
    }
   },
   "source": [
    "# Visualize ensemble initialization\n",
    "from essentials.plotResults import plot_ensemble\n",
    "plot_ensemble(ensemble)"
   ],
   "execution_count": 10,
   "outputs": []
  },
  {
   "cell_type": "markdown",
   "id": "fcba75cfeee66511",
   "metadata": {
    "collapsed": false,
    "jupyter": {
     "outputs_hidden": false
    }
   },
   "source": [
    "### 4) Apply data assimilation <a class=\"anchor\" id=\"da\"></a>\n",
    "We now have all the ingredients to start our data assimilation algorithm."
   ]
  },
  {
   "cell_type": "code",
   "id": "3c693789ecebecfb",
   "metadata": {
    "collapsed": false,
    "jupyter": {
     "outputs_hidden": false
    },
    "ExecuteTime": {
     "end_time": "2024-06-04T17:20:46.061300Z",
     "start_time": "2024-06-04T17:20:39.957716Z"
    }
   },
   "source": [
    "\n",
    "filter_ens = ensemble.copy()\n",
    "\n",
    "# Define measurement error covariance matrix\n",
    "Cdd = np.diag((1. * np.ones(filter_ens.Nq))) ** 2\n",
    "\n",
    "# ----------------------------------------------------------------------------\n",
    "for d, t_d in zip(d_obs, t_obs):\n",
    "    # Parallel forecast to next observation\n",
    "    Nt = int(np.round((t_d - filter_ens.get_current_time) / filter_ens.dt))\n",
    "    psi, t = filter_ens.time_integrate(Nt)\n",
    "    filter_ens.update_history(psi, t)\n",
    "    # Perform assimilation \n",
    "    Aa = EnKF(filter_ens, d, Cdd) \n",
    "    # Update the initial condition for the next forecast\n",
    "    filter_ens.update_history(Aa[:-filter_ens.Nq, :], update_last_state=True)\n",
    "# ----------------------------------------------------------------------------\n",
    "\n",
    "filter_ens.close() # closes the parallel pools\n"
   ],
   "execution_count": 11,
   "outputs": []
  },
  {
   "cell_type": "code",
   "id": "c7de0d2843842d08",
   "metadata": {
    "collapsed": false,
    "jupyter": {
     "outputs_hidden": false
    },
    "ExecuteTime": {
     "end_time": "2024-06-04T17:20:56.109576Z",
     "start_time": "2024-06-04T17:20:46.063116Z"
    }
   },
   "source": [
    "from essentials.plotResults import plot_timeseries, plot_parameters\n",
    "true_args = dict(y_raw=d_raw, y_true=d_true, t=t_true, dt=dt_t, t_obs=t_obs, y_obs=d_obs, dt_obs=Nt_obs * dt_t)\n",
    "\n",
    "ens = filter_ens.copy()\n",
    "\n",
    "#Forecast the ensemble further without assimilation\n",
    "Nt_extra = int(10 * t_lyap / ens.dt) \n",
    "\n",
    "psi, t = ens.time_integrate(Nt_extra, averaged=False)\n",
    "ens.update_history(psi, t)\n",
    "\n",
    "plot_timeseries(ens, true_args, reference_t=t_lyap, plot_ensemble_members=True)\n",
    "plot_parameters(ens, true_args, reference_p=true_params)"
   ],
   "execution_count": 12,
   "outputs": []
  },
  {
   "cell_type": "code",
   "id": "ed498773-f0b7-4eaf-b210-d3e192a93a82",
   "metadata": {
    "ExecuteTime": {
     "end_time": "2024-06-04T17:20:57.066810Z",
     "start_time": "2024-06-04T17:20:56.117391Z"
    }
   },
   "source": [
    "# Visualize attractors\n",
    "from essentials.plotResults import plot_attractor\n",
    "\n",
    "case0 = true_case.copy()\n",
    "case1 = filter_ens.copy()\n",
    "\n",
    "# Forecast both cases\n",
    "Nt = 20 * int(t_lyap / ens.dt)\n",
    "psi0, t0 = case0.time_integrate(Nt=Nt)\n",
    "psi1, t1 = case1.time_integrate(Nt=Nt, averaged=True)\n",
    "\n",
    "plot_attractor([psi0, psi1], color=['gray', 'teal'])"
   ],
   "execution_count": 13,
   "outputs": []
  },
  {
   "cell_type": "markdown",
   "id": "1f7e29abbc7ea0fc",
   "metadata": {
    "collapsed": false,
    "jupyter": {
     "outputs_hidden": false
    }
   },
   "source": [
    "\n",
    "\n",
    "\n",
    "<br />\n",
    "\n",
    "___\n",
    "\n",
    "### Exercise:\n",
    "\n",
    "<em> <font color=#7CB9E8> -How would you expect the solution to change if we decrease/increase the assimilation frequency?\n",
    "\n",
    "\n",
    "<em> <font color=#7CB9E8> -How would you expect the solution to change if we observe only part of the state?\n",
    "</em>\n",
    "\n",
    "\n",
    "<br />\n",
    "\n",
    "___\n"
   ]
  },
  {
   "cell_type": "code",
   "id": "a2a3f3a949d76f70",
   "metadata": {
    "collapsed": false,
    "jupyter": {
     "outputs_hidden": false
    },
    "ExecuteTime": {
     "end_time": "2024-06-04T17:20:57.072889Z",
     "start_time": "2024-06-04T17:20:57.068919Z"
    }
   },
   "source": [],
   "execution_count": 13,
   "outputs": []
  }
 ],
 "metadata": {
  "kernelspec": {
   "display_name": "Python 3 (ipykernel)",
   "language": "python",
   "name": "python3"
  },
  "language_info": {
   "codemirror_mode": {
    "name": "ipython",
    "version": 3
   },
   "file_extension": ".py",
   "mimetype": "text/x-python",
   "name": "python",
   "nbconvert_exporter": "python",
   "pygments_lexer": "ipython3",
   "version": "3.9.19"
  }
 },
 "nbformat": 4,
 "nbformat_minor": 5
}
