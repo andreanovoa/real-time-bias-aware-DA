{
 "cells": [
  {
   "cell_type": "markdown",
   "id": "8ff8b43e-aab7-40e4-b795-a8faf3cdfe0d",
   "metadata": {},
   "source": [
    "<a id=\"test\"></a>\n",
    "# Define truth and ensemble"
   ]
  },
  {
   "cell_type": "code",
   "execution_count": 1,
   "id": "5e16e73db6e66408",
   "metadata": {
    "collapsed": false,
    "ExecuteTime": {
     "end_time": "2024-06-04T20:46:27.930829Z",
     "start_time": "2024-06-04T20:46:26.289923Z"
    }
   },
   "source": [
    "from essentials.physical_models import VdP\n",
    "from essentials.create import create_truth, create_ensemble, create_bias_model\n",
    "from essentials.DA import dataAssimilation\n",
    "from essentials.bias_models import ESN\n",
    "from essentials.plotResults import *\n",
    "\n",
    "import numpy as np\n",
    "\n",
    "rng = np.random.default_rng(0)\n",
    "\n",
    "dt_t = 2e-4\n",
    "\n",
    "\n",
    "# The manual bias is a function of state and/or time\n",
    "def manual_bias(y, t):\n",
    "    # Linear function of the state\n",
    "    return .2 * y + .3 * np.max(y, axis=0), 'linear'\n",
    "    # Periodic function of the state\n",
    "    # return 0.5 * np.max(y, axis=0) * np.cos(2 * y / np.max(y, axis=0)), 'periodic'\n",
    "    # Time-varying bias\n",
    "    # return .4 * y * np.sin((np.expand_dims(t, -1) * np.pi * 2) ** 2), 'time'\n",
    "\n",
    "\n",
    "true_params = dict(model=VdP,\n",
    "                   t_start=1.5,\n",
    "                   t_stop=1.8,\n",
    "                   t_max=2.5,\n",
    "                   Nt_obs=30,\n",
    "                   dt=dt_t,\n",
    "                   psi0=rng.random(2)+5,\n",
    "                   std_obs=0.1,\n",
    "                   noise_type='gauss,additive',\n",
    "                   manual_bias=manual_bias\n",
    "                   )\n",
    "\n",
    "truth = create_truth(**true_params)\n",
    "\n",
    "\n",
    "y_obs, t_obs = [truth[key].copy() for key in ['y_obs', 't_obs']]\n",
    "\n",
    "# # Visualize the truth and observations\n",
    "# plot_truth(f_max=300, window=0.1, **truth)\n",
    "\n"
   ],
   "outputs": []
  },
  {
   "cell_type": "code",
   "execution_count": 6,
   "id": "85f1f360-e17e-4d26-8d2f-e6cfb5ab1d8b",
   "metadata": {
    "ExecuteTime": {
     "end_time": "2024-06-04T20:47:51.231001Z",
     "start_time": "2024-06-04T20:47:14.805136Z"
    }
   },
   "source": [
    "\n",
    "forecast_params = dict(filter='rBA_EnKF',\n",
    "                       m=10,\n",
    "                       dt=dt_t,\n",
    "                       model=VdP,\n",
    "                       est_a=dict(zeta=(40, 80.),\n",
    "                                 beta=(50, 80),\n",
    "                                 kappa=(3, 5),\n",
    "                                 ),\n",
    "                       std_psi=0.3,\n",
    "                       alpha_distr='uniform',\n",
    "                       inflation=1.0,\n",
    "                       regularization_factor=5.\n",
    "                       )\n",
    "ensemble = create_ensemble(**forecast_params)\n",
    "\n",
    "train_params = dict(bias_model=ESN, \n",
    "                    upsample=2,\n",
    "                    N_units=40,\n",
    "                    N_wash=10,\n",
    "                    t_train=ensemble.t_CR * 5,\n",
    "                    t_test=ensemble.t_CR * 1,\n",
    "                    t_val=ensemble.t_CR * 1,\n",
    "                    # Training data generation options\n",
    "                    augment_data=True,\n",
    "                    biased_observations=True,\n",
    "                    L=20,\n",
    "                    # Hyperparameter search ranges\n",
    "                    rho_range=(0.4, 1.),\n",
    "                    sigma_in_range=(np.log10(1e-5), np.log10(1e1)),\n",
    "                    tikh_range=[1e-16]\n",
    "                    )\n",
    "\n",
    "bias_model, wash_obs, wash_t = create_bias_model(ensemble, truth.copy(), bias_params=train_params)\n",
    "\n",
    "ensemble.bias = bias_model.copy()\n"
   ],
   "outputs": []
  },
  {
   "cell_type": "markdown",
   "id": "6dd91d5c-6498-4175-b62d-ea38a84badd5",
   "metadata": {},
   "source": [
    "##  Run simulation"
   ]
  },
  {
   "cell_type": "code",
   "execution_count": 7,
   "id": "45eb9680-6cf9-4885-bff8-e99aad931167",
   "metadata": {
    "ExecuteTime": {
     "end_time": "2024-06-04T20:47:56.246165Z",
     "start_time": "2024-06-04T20:47:51.234585Z"
    }
   },
   "source": [
    "\n",
    "ensemble.regularization_factor = 5.\n",
    "\n",
    "filter_ens = dataAssimilation(ensemble.copy(), y_obs=y_obs, t_obs=t_obs, std_obs=0.01, wash_t=wash_t, wash_obs=wash_obs)"
   ],
   "outputs": []
  },
  {
   "cell_type": "markdown",
   "id": "e18262a1-9099-4cd2-8bc6-b5df365c61fe",
   "metadata": {},
   "source": [
    "##  Plot results"
   ]
  },
  {
   "cell_type": "code",
   "execution_count": 8,
   "id": "578667fd-5ccf-4f67-906e-1de62b44b254",
   "metadata": {
    "ExecuteTime": {
     "end_time": "2024-06-04T20:48:02.011862Z",
     "start_time": "2024-06-04T20:47:56.249596Z"
    }
   },
   "source": [
    "\n",
    "# Forecast the ensemble further without assimilation\n",
    "ens = filter_ens.copy()\n",
    "\n",
    "Nt = int(4 * true_params['Nt_obs'])\n",
    "psi, t = ens.time_integrate(Nt, averaged=False)\n",
    "ens.update_history(psi, t)\n",
    "\n",
    "y = ens.get_observable_hist(Nt)\n",
    "b, t_b = ens.bias.time_integrate(t=t, y=y)\n",
    "ens.bias.update_history(b, t_b)\n",
    "\n",
    "\n",
    "plot_timeseries(ens, truth.copy(), plot_ensemble_members=False, plot_bias=True)\n",
    "plot_parameters(ens, truth.copy(), reference_p=truth['case'].alpha0)\n"
   ],
   "outputs": []
  },
  {
   "cell_type": "code",
   "execution_count": 5,
   "id": "9f7fed18-0bb7-4434-90d2-6f039852b946",
   "metadata": {
    "ExecuteTime": {
     "end_time": "2024-06-04T20:46:53.878013Z",
     "start_time": "2024-06-04T20:46:53.876242Z"
    }
   },
   "source": [],
   "outputs": []
  }
 ],
 "metadata": {
  "kernelspec": {
   "name": "da-env",
   "language": "python",
   "display_name": "da-env"
  },
  "language_info": {
   "codemirror_mode": {
    "name": "ipython",
    "version": 3
   },
   "file_extension": ".py",
   "mimetype": "text/x-python",
   "name": "python",
   "nbconvert_exporter": "python",
   "pygments_lexer": "ipython3",
   "version": "3.10.13"
  }
 },
 "nbformat": 4,
 "nbformat_minor": 5
}
