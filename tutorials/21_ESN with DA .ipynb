{
 "cells": [
  {
   "cell_type": "markdown",
   "source": [
    "# TUTORIAL \n",
    "# Using Data assimilation to update the ESN prediction on the fly\n",
    "#### Benefits\n",
    "1. No need for a washout\n",
    "2. We can update the reservoir state \n"
   ],
   "metadata": {
    "collapsed": false
   },
   "id": "a0cb8261dd2f92c2"
  },
  {
   "cell_type": "code",
   "execution_count": 1,
   "id": "initial_id",
   "metadata": {
    "collapsed": true,
    "ExecuteTime": {
     "end_time": "2024-02-08T15:53:23.002428267Z",
     "start_time": "2024-02-08T15:53:21.687473723Z"
    }
   },
   "source": [
    "# Load required packages\n",
    "from default_parameters.lorenz63 import *\n",
    "from ML_models.EchoStateNetwork import *\n",
    "from copy import deepcopy\n"
   ],
   "outputs": []
  },
  {
   "cell_type": "markdown",
   "source": [
    "## 1. DEFINE THE ESN PARAMETERS"
   ],
   "metadata": {
    "collapsed": false
   },
   "id": "cfd439f4647f9ba"
  },
  {
   "cell_type": "code",
   "execution_count": 12,
   "source": [
    "dt_model = 0.015\n",
    "t_lyap = 0.906 ** (-1)  # Lyapunov Time (inverse of largest Lyapunov exponent\n",
    "\n",
    "# Define Echo state network parameters\n",
    "ESN_params = dict(t_train=40 * t_lyap,\n",
    "                  t_val=6 * t_lyap,\n",
    "                  t_test=10 * t_lyap,\n",
    "                  N_wash=5,\n",
    "                  N_units=50,\n",
    "                  N_folds=8,\n",
    "                  N_split=5,\n",
    "                  connect=3,\n",
    "                  plot_training=True,\n",
    "                  rho_range=(.2, .8),\n",
    "                  tikh_range=[1E-6, 1E-9, 1E-12],\n",
    "                  N_func_evals=40,\n",
    "                  sigma_in_range=(np.log10(0.5), np.log10(50.)),\n",
    "                  N_grid=5,\n",
    "                  noise=1e-2,\n",
    "                  perform_test=True,\n",
    "                  Win_type='sparse',\n",
    "                  upsample=3,\n",
    "                  bayesian_update=True\n",
    "                  )\n",
    "\n",
    "\n",
    "# Initialize ESN class\n",
    "ESN_original = EchoStateNetwork(y=np.zeros((3,1)), dt=dt_model, **ESN_params)\n",
    "\n"
   ],
   "metadata": {
    "collapsed": false,
    "ExecuteTime": {
     "end_time": "2024-02-08T16:17:37.570368871Z",
     "start_time": "2024-02-08T16:17:37.537364203Z"
    }
   },
   "id": "a5a9afbdd917c089",
   "outputs": []
  },
  {
   "cell_type": "markdown",
   "source": [
    "## 2. GENERATE THE TRAINING DATA"
   ],
   "metadata": {
    "collapsed": false
   },
   "id": "3945ddaf810f2c2"
  },
  {
   "cell_type": "code",
   "execution_count": 13,
   "source": [
    "# Create training data from the Lorenz 63 model\n",
    "model = Lorenz63(dt=dt_model,\n",
    "                 psi0=rng.random(3)+10,\n",
    "                 t_transient=10 * t_lyap,\n",
    "                 t_lyap=t_lyap)\n",
    "\n",
    "# Initialise ensemble of training data\n",
    "N_transient = int(model.t_transient / model.dt)\n",
    "model.update_history(model.time_integrate(Nt=N_transient)[0][-1], reset=True)\n",
    "\n",
    "\n",
    "N_wtv_model = int((ESN_params['t_train'] + ESN_params['t_val']) / model.dt)\\\n",
    "              + ESN_params['N_wash'] * ESN_params['upsample']\n",
    "N_test_model = int(ESN_params['t_test'] / model.dt) * 5\n",
    "\n",
    "for Nt in [N_wtv_model, N_test_model]:\n",
    "    state, t1 = model.time_integrate(Nt)\n",
    "    model.update_history(state, t1)\n",
    "model.close()"
   ],
   "metadata": {
    "collapsed": false,
    "ExecuteTime": {
     "end_time": "2024-02-08T16:17:38.232922426Z",
     "start_time": "2024-02-08T16:17:37.868233131Z"
    }
   },
   "id": "1e315d5735132ab0",
   "outputs": []
  },
  {
   "cell_type": "code",
   "execution_count": 14,
   "source": [
    "# Visualize the training dataset\n",
    "fig = plt.figure(figsize=(14, 8), layout='tight')\n",
    "axs = fig.subplots(nrows=model.Nphi, ncols=1, sharex='col', sharey='row')\n",
    "for axi, ax in enumerate(axs):\n",
    "    ax.plot(model.hist_t/t_lyap, model.hist[:, axi])\n",
    "    ax.axvline(x=model.hist_t[-N_test_model]/t_lyap, color='k')\n",
    "    ax.axvspan(0, model.hist_t[-N_test_model]/t_lyap, facecolor='tab:green', alpha=0.125, zorder=-100, label='Train + validation data')\n",
    "    ax.axvspan(model.hist_t[-N_test_model]/t_lyap, model.hist_t[-1]/t_lyap, facecolor='tab:red', alpha=0.125, zorder=-100, label='Test data')\n",
    "    ax.set(ylabel=model.obs_labels[axi])\n",
    "    if axi == 0:\n",
    "        ax.legend(loc='lower center', ncol=2, bbox_to_anchor=(0.5, 1.0))\n",
    "axs[-1].set(xlabel='$t/T$', xlim=[0, model.hist_t[-1]/t_lyap]);"
   ],
   "metadata": {
    "collapsed": false,
    "ExecuteTime": {
     "end_time": "2024-02-08T16:17:39.036750007Z",
     "start_time": "2024-02-08T16:17:38.162533503Z"
    }
   },
   "id": "3a8adebcb343aedb",
   "outputs": []
  },
  {
   "cell_type": "markdown",
   "source": [
    "## 3. TRAIN THE ESN\n",
    "The result of the ESN training is the output matrix. It is interesting to visualize the weights of Wout. \n",
    "NB: Different initializations result in different matrices."
   ],
   "metadata": {
    "collapsed": false
   },
   "id": "1e615250fb809032"
  },
  {
   "cell_type": "code",
   "execution_count": 15,
   "source": [
    "train_data = model.get_observable_hist()\n",
    "train_data = train_data.transpose(2, 0, 1)  # Note: input must be L x Nt x Ndim\n",
    "\n",
    "# Train ESN\n",
    "ESN_original.train(data=train_data)\n"
   ],
   "metadata": {
    "collapsed": false,
    "ExecuteTime": {
     "end_time": "2024-02-08T16:18:04.831598448Z",
     "start_time": "2024-02-08T16:17:39.029954117Z"
    }
   },
   "id": "cb3b68a5e1967b48",
   "outputs": []
  },
  {
   "cell_type": "code",
   "execution_count": 16,
   "source": [
    "# Visualize the outout matrix\n",
    "fig, ax = plt.subplots()\n",
    "im = ax.matshow(ESN_original.Wout.T, cmap=\"PRGn\", aspect=4., vmin=-200, vmax=200)\n",
    "ax.tick_params(axis=\"x\", bottom=True, top=False, labelbottom=True, labeltop=False)\n",
    "cbar=plt.colorbar(im, orientation='horizontal', extend='both')\n",
    "ax.set(ylabel='$N_u$', xlabel='$N_r$', title='$\\mathbf{W}_\\mathrm{out}$');"
   ],
   "metadata": {
    "collapsed": false,
    "ExecuteTime": {
     "end_time": "2024-02-08T16:18:05.098030643Z",
     "start_time": "2024-02-08T16:18:04.833507778Z"
    }
   },
   "id": "67936c9d793a5c42",
   "outputs": []
  },
  {
   "cell_type": "markdown",
   "source": [
    "## 4. TEST THE ESN'S ADAPTABILITY TO SEQUENTIAL INPUT DATA"
   ],
   "metadata": {
    "collapsed": false
   },
   "id": "ae3ac5be4366de70"
  },
  {
   "metadata": {},
   "cell_type": "code",
   "outputs": [],
   "execution_count": null,
   "source": [
    "def reconstruct_state(case, observed_data, filter_=EnKF, inflation=1.01):\n",
    "\n",
    "    Nq = len(case.observed_idx)\n",
    "\n",
    "    if update_reservoir:\n",
    "        M = np.zeros([Nq, case.N_dim + case.N_units])\n",
    "    else:\n",
    "        M = np.zeros([Nq, case.N_dim])\n",
    "\n",
    "    for dim_i, obs_i in enumerate(case.observed_idx):\n",
    "        M[dim_i, obs_i] = 1.\n",
    "\n",
    "    # Define forecast state\n",
    "    u, r = case.get_reservoir_state()\n",
    "    if update_reservoir:\n",
    "        x = np.concatenate([u, r], axis=0)\n",
    "    else:\n",
    "        x = u.copy()\n",
    "\n",
    "    # Apply filter\n",
    "    x_hat = filter_(Af=x, d=observed_data, Cdd=Cdd, M=M)\n",
    "\n",
    "    if inflation > 1.:\n",
    "        x_hat_mean = np.mean(x_hat, -1, keepdims=True)\n",
    "        x_hat = x_hat_mean + (x_hat - x_hat_mean) * inflation\n",
    "\n",
    "    # Return updates to u and r\n",
    "    if update_reservoir:\n",
    "        return x_hat[:case.N_dim], x_hat[case.N_dim:]\n",
    "    else:\n",
    "        return x_hat[:case.N_dim], None"
   ],
   "id": "6d9ab44d7d4ab47f"
  },
  {
   "cell_type": "code",
   "source": [
    "\n",
    "plt.style.use('fast')\n",
    "\n",
    "\n",
    "# Select the time windows of interest\n",
    "dt_DA = 1. * t_lyap\n",
    "total_time = 20. * t_lyap\n",
    "num_tests = int(total_time / dt_DA)\n",
    "\n",
    "# Make a copy of the blank ESN\n",
    "ESN_2 = deepcopy(ESN_original)\n",
    "# Select observable states\n",
    "observe_idx = np.array([0, 1 ,2])\n",
    "N_ens = 10\n",
    "\n",
    "ESN_2.observed_idx = observe_idx\n",
    "ESN_2.bayesian_update = True\n",
    "ESN_2.initialize_state(data=train_data, N_ens=N_ens)\n",
    "\n",
    "Nt_tests = int(dt_DA / ESN_2.dt_ESN)\n",
    "Nt_tests_model = Nt_tests * ESN_2.upsample\n",
    "\n",
    "from essentials.DA import EnSRKF\n",
    "\n",
    "for update_reservoir in [False, True]:\n",
    "    \n",
    "    ESN_case = deepcopy(ESN_2)\n",
    "    truth = model.copy()\n",
    "\n",
    "\n",
    "    FORECAST, FORECAST_TIME, ANALYSIS, TRUTH, TRUTH_TIME = [], [], [], [], []\n",
    "    \n",
    "    Cdd = (0.05 * 10) ** 2 * np.eye(len(ESN_case.observed_idx))\n",
    "    \n",
    "    for jj in range(num_tests + 1):\n",
    "        # Forecast truth\n",
    "        if jj == 0:\n",
    "            psi, tt = truth.time_integrate(Nt_tests_model * 5)\n",
    "            u_closed, r_closed = ESN_case.closedLoop(Nt_tests * 5)\n",
    "        else:\n",
    "            psi, tt = truth.time_integrate(Nt_tests_model)\n",
    "            u_closed, r_closed = ESN_case.closedLoop(Nt_tests)\n",
    "            \n",
    "        # Update model and ESN states\n",
    "        truth.update_history(psi, tt)\n",
    "        u_closed, r_closed = u_closed[1:], r_closed[1:]\n",
    "        tt_up = tt[::ESN_case.upsample].copy()\n",
    "    \n",
    "        if not Nt_tests_model % Nt_tests:\n",
    "            u_closed[-1] = interpolate(tt_up, u_closed, tt[-1])\n",
    "            r_closed[-1] = interpolate(tt_up, r_closed, tt[-1])\n",
    "            tt_up[-1] = tt[-1].copy()\n",
    "\n",
    "            \n",
    "        ESN_case.reset_state(u=u_closed[-1], r=r_closed[-1])\n",
    "    \n",
    "        # Take measurement of the truth\n",
    "        d = psi[-1, observe_idx, 0]\n",
    "    \n",
    "        # Update ESN with analysis state\n",
    "        u_hat, r_hat = reconstruct_state(case=ESN_case, observed_data=d, filter_=EnSRKF)\n",
    "        ESN_case.reset_state(u=u_hat, r=r_hat)\n",
    "    \n",
    "        TRUTH.append(psi)\n",
    "        TRUTH_TIME.append(tt)\n",
    "        FORECAST.append(u_closed)\n",
    "        FORECAST_TIME.append(tt_up)\n",
    "        ANALYSIS.append(u_hat)\n",
    "        \n",
    "    fig1 = plt.figure(figsize=(12, 7),layout=\"tight\")\n",
    "    axs_time = fig1.subplots(nrows=ESN_case.N_dim, ncols=1, sharex='col', sharey='row')\n",
    "    \n",
    "    ct, cf, ca, co = 'gray', 'tab:orange', 'c', 'r'\n",
    "    lbl_a, lbl_f = [[lbl] + [None] * (N_ens-1) for lbl in  ['Analysis', 'Forecast']]\n",
    "    \n",
    "    flag = 0\n",
    "    for axi, ax in enumerate(axs_time):\n",
    "        ax.plot(np.concatenate(TRUTH_TIME) / t_lyap, np.concatenate(TRUTH)[:, axi], '-', c=ct, lw=2, alpha=.8, label='Truth')\n",
    "        for yt, tt, uf, tf, ua in zip(TRUTH, TRUTH_TIME, FORECAST, FORECAST_TIME, ANALYSIS):\n",
    "            ax.plot(tf / t_lyap, uf[:, axi], '-', c=cf, lw=0.2, label=[None]*N_ens)\n",
    "            ax.plot(tf[-1] / t_lyap, uf[[-1], axi], 's', lw=0, mew=1, c=cf, mec=cf, mfc='none', ms=6, label=lbl_f)\n",
    "            ax.plot(tf[-1] / t_lyap, ua[[axi]], 'x', c=ca, mec=ca, ms=7, label=lbl_a, alpha=0.9)\n",
    "            if axi in observe_idx:\n",
    "                ax.plot(tt[-1] / t_lyap, yt[-1, axi], 'o', c=ct, mfc=co, ms=6, alpha=.8, label='Data')\n",
    "            if not flag and axi == 0:\n",
    "                ax.legend(ncols=4, loc='lower center', bbox_to_anchor=(0.5, 1.0))\n",
    "                flag = True\n",
    "                \n",
    "                \n",
    "    plt.suptitle('Reservoir update = {}'.format(update_reservoir))\n",
    "    \n",
    "    "
   ],
   "metadata": {
    "collapsed": false,
    "ExecuteTime": {
     "end_time": "2024-02-08T16:18:18.979485057Z",
     "start_time": "2024-02-08T16:18:05.141548837Z"
    }
   },
   "id": "6762b159b7e4e183",
   "execution_count": 17,
   "outputs": []
  }
 ],
 "metadata": {
  "kernelspec": {
   "display_name": "Python 3",
   "language": "python",
   "name": "python3"
  },
  "language_info": {
   "codemirror_mode": {
    "name": "ipython",
    "version": 2
   },
   "file_extension": ".py",
   "mimetype": "text/x-python",
   "name": "python",
   "nbconvert_exporter": "python",
   "pygments_lexer": "ipython2",
   "version": "2.7.6"
  }
 },
 "nbformat": 4,
 "nbformat_minor": 5
}
