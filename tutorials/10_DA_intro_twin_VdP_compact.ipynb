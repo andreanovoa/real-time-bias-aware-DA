{
 "cells": [
  {
   "cell_type": "markdown",
   "id": "ae8c7c2b-17a2-4550-a37b-4629ff1c3a07",
   "metadata": {},
   "source": [
    "# Define parameters"
   ]
  },
  {
   "cell_type": "code",
   "id": "15d23a18-dd2d-42a5-a269-4e187721c0d3",
   "metadata": {
    "ExecuteTime": {
     "end_time": "2024-06-04T20:48:36.911599Z",
     "start_time": "2024-06-04T20:48:35.664993Z"
    }
   },
   "source": [
    "%matplotlib inline\n",
    "\n",
    "import numpy as np\n",
    "from essentials.physical_models import VdP\n",
    "from essentials.plotResults import plot_timeseries, plot_parameters\n",
    "from essentials.create import create_truth, create_ensemble\n",
    "from essentials.DA import dataAssimilation\n",
    "\n",
    "\n",
    "\n",
    "rng = np.random.default_rng(0)\n",
    "\n",
    "dt_t = 2e-4\n",
    "\n",
    "true_params = dict(model=VdP,\n",
    "                   t_start=0.5,\n",
    "                   t_stop=1.,\n",
    "                   t_max=1.5,\n",
    "                   Nt_obs=30,\n",
    "                   dt=dt_t,\n",
    "                   psi0=rng.random(2)+5,\n",
    "                   std_obs=0.2,\n",
    "                   noise_type='gauss,additive'\n",
    "                   )\n",
    "\n",
    "forecast_params = dict(filter='EnKF',\n",
    "                       m=10,\n",
    "                       dt=dt_t,\n",
    "                       model=VdP,\n",
    "                       est_a=dict(zeta=(40, 80.)\n",
    "                                 ),\n",
    "                       std_psi=0.3,\n",
    "                       alpha_distr='uniform',\n",
    "                       inflation=1.01\n",
    "                       )\n",
    "\n",
    "\n"
   ],
   "execution_count": 1,
   "outputs": []
  },
  {
   "cell_type": "markdown",
   "id": "871ccae2-4aaf-4839-878d-f7cc45d58b32",
   "metadata": {},
   "source": [
    "# Run simulation"
   ]
  },
  {
   "cell_type": "code",
   "id": "3c126ab9-848d-4813-9bf6-97c05bb5847a",
   "metadata": {
    "ExecuteTime": {
     "end_time": "2024-06-04T20:48:41.801299Z",
     "start_time": "2024-06-04T20:48:36.913285Z"
    }
   },
   "source": [
    "\n",
    "\n",
    "\n",
    "truth = create_truth(**true_params)\n",
    "y_obs, t_obs = [truth[key].copy() for key in ['y_obs', 't_obs']]\n",
    "\n",
    "ensemble = create_ensemble(**forecast_params)\n",
    "filter_ens = dataAssimilation(ensemble.copy(), y_obs=y_obs, t_obs=t_obs, std_obs=0.01)"
   ],
   "execution_count": 2,
   "outputs": []
  },
  {
   "cell_type": "markdown",
   "id": "5ca58b27-189b-41af-bd32-3c5907499d7a",
   "metadata": {},
   "source": [
    "# Plot results"
   ]
  },
  {
   "cell_type": "code",
   "id": "4a21b98d-237f-46c3-8914-b17dd5ae13a8",
   "metadata": {
    "ExecuteTime": {
     "end_time": "2024-06-04T20:48:47.749282Z",
     "start_time": "2024-06-04T20:48:41.804087Z"
    }
   },
   "source": [
    "\n",
    "# Forecast the ensemble further without assimilation\n",
    "ens = filter_ens.copy()\n",
    "psi, t = ens.time_integrate(int(4 * true_params['Nt_obs']), averaged=False)\n",
    "ens.update_history(psi, t)\n",
    "\n",
    "plot_timeseries(ens, truth, plot_ensemble_members=False)\n",
    "    \n",
    "plot_parameters(ens, truth, reference_p=truth['case'].alpha0)\n"
   ],
   "execution_count": 3,
   "outputs": []
  },
  {
   "metadata": {
    "ExecuteTime": {
     "end_time": "2024-06-04T20:48:47.753077Z",
     "start_time": "2024-06-04T20:48:47.751040Z"
    }
   },
   "cell_type": "code",
   "execution_count": 3,
   "source": [],
   "id": "a95aa5eed4eddd0f",
   "outputs": []
  }
 ],
 "metadata": {
  "kernelspec": {
   "name": "da-env",
   "language": "python",
   "display_name": "da-env"
  },
  "language_info": {
   "codemirror_mode": {
    "name": "ipython",
    "version": 3
   },
   "file_extension": ".py",
   "mimetype": "text/x-python",
   "name": "python",
   "nbconvert_exporter": "python",
   "pygments_lexer": "ipython3",
   "version": "3.9.19"
  }
 },
 "nbformat": 4,
 "nbformat_minor": 5
}
